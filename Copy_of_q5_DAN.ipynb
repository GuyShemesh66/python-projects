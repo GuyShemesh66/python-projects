{
  "nbformat": 4,
  "nbformat_minor": 0,
  "metadata": {
    "colab": {
      "provenance": [],
      "gpuType": "T4"
    },
    "kernelspec": {
      "name": "python3",
      "display_name": "Python 3"
    },
    "language_info": {
      "name": "python"
    },
    "accelerator": "GPU"
  },
  "cells": [
    {
      "cell_type": "markdown",
      "metadata": {
        "id": "vM85j1-ZX8RZ"
      },
      "source": [
        "To begin copy this notebook to your own drive:\n",
        "\n",
        "![image.png](data:image/png;base64,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)\n",
        "\n",
        "\n",
        "### Submission Instructions:\n",
        "1. **Restart the kernel** (in the menubar, select Runtime$\\rightarrow$Restart runtime)\n",
        "2. **Download the notebook** (in the menubar, select File$\\rightarrow$Download .ipynb)\n",
        "3. **Upload the downloaded notebook (.ipynb file) to your repository**.\n",
        "\n",
        "\n",
        "Make sure you fill in any place that says `YOUR CODE HERE`, and that no tests fail.  \n",
        "\n",
        "Note: To use a GPU, do the following: Runtime$\\rightarrow$Change runtime type$\\rightarrow$ GPU"
      ]
    },
    {
      "cell_type": "code",
      "source": [],
      "metadata": {
        "id": "V6kwn4i5C3hB"
      },
      "execution_count": null,
      "outputs": []
    },
    {
      "cell_type": "code",
      "metadata": {
        "colab": {
          "base_uri": "https://localhost:8080/"
        },
        "id": "BOtck6n09468",
        "outputId": "7978d904-959d-4c68-a01d-b903d25c841e"
      },
      "source": [
        "import gdown\n",
        "import nltk\n",
        "gdown.download('https://drive.google.com/uc?export=download&id=1PFOG06NEsTL6VieKQjMk1oNzyzcUtiWn', 'glove.npy', quiet=False)\n",
        "gdown.download('https://drive.google.com/uc?export=download&id=1-3SxpirQjmX-RCRyRjKdP2L7G_tNgp00', 'vocab.json', quiet=False)\n",
        "\n",
        "nltk.download('punkt')"
      ],
      "execution_count": 1,
      "outputs": [
        {
          "output_type": "stream",
          "name": "stderr",
          "text": [
            "Downloading...\n",
            "From (original): https://drive.google.com/uc?export=download&id=1PFOG06NEsTL6VieKQjMk1oNzyzcUtiWn\n",
            "From (redirected): https://drive.google.com/uc?export=download&id=1PFOG06NEsTL6VieKQjMk1oNzyzcUtiWn&confirm=t&uuid=e0a07fda-ab98-479a-bee2-d16b3b066981\n",
            "To: /content/glove.npy\n",
            "100%|██████████| 480M/480M [00:06<00:00, 73.3MB/s]\n",
            "Downloading...\n",
            "From: https://drive.google.com/uc?export=download&id=1-3SxpirQjmX-RCRyRjKdP2L7G_tNgp00\n",
            "To: /content/vocab.json\n",
            "100%|██████████| 7.69M/7.69M [00:00<00:00, 94.1MB/s]\n",
            "[nltk_data] Downloading package punkt to /root/nltk_data...\n",
            "[nltk_data]   Package punkt is already up-to-date!\n"
          ]
        },
        {
          "output_type": "execute_result",
          "data": {
            "text/plain": [
              "True"
            ]
          },
          "metadata": {},
          "execution_count": 1
        }
      ]
    },
    {
      "cell_type": "code",
      "metadata": {
        "colab": {
          "base_uri": "https://localhost:8080/"
        },
        "id": "WbkSh2AW-tpN",
        "outputId": "9b1ff237-649a-4c5a-eacd-7bec75547ac1"
      },
      "source": [
        "!pip install datasets\n",
        "!pip install transformers\n",
        "!pip install accelerate -U\n",
        "!pip install transformers[torch]"
      ],
      "execution_count": 2,
      "outputs": [
        {
          "output_type": "stream",
          "name": "stdout",
          "text": [
            "Requirement already satisfied: datasets in /usr/local/lib/python3.10/dist-packages (2.20.0)\n",
            "Requirement already satisfied: filelock in /usr/local/lib/python3.10/dist-packages (from datasets) (3.15.4)\n",
            "Requirement already satisfied: numpy>=1.17 in /usr/local/lib/python3.10/dist-packages (from datasets) (1.25.2)\n",
            "Requirement already satisfied: pyarrow>=15.0.0 in /usr/local/lib/python3.10/dist-packages (from datasets) (16.1.0)\n",
            "Requirement already satisfied: pyarrow-hotfix in /usr/local/lib/python3.10/dist-packages (from datasets) (0.6)\n",
            "Requirement already satisfied: dill<0.3.9,>=0.3.0 in /usr/local/lib/python3.10/dist-packages (from datasets) (0.3.8)\n",
            "Requirement already satisfied: pandas in /usr/local/lib/python3.10/dist-packages (from datasets) (2.0.3)\n",
            "Requirement already satisfied: requests>=2.32.2 in /usr/local/lib/python3.10/dist-packages (from datasets) (2.32.3)\n",
            "Requirement already satisfied: tqdm>=4.66.3 in /usr/local/lib/python3.10/dist-packages (from datasets) (4.66.4)\n",
            "Requirement already satisfied: xxhash in /usr/local/lib/python3.10/dist-packages (from datasets) (3.4.1)\n",
            "Requirement already satisfied: multiprocess in /usr/local/lib/python3.10/dist-packages (from datasets) (0.70.16)\n",
            "Requirement already satisfied: fsspec[http]<=2024.5.0,>=2023.1.0 in /usr/local/lib/python3.10/dist-packages (from datasets) (2023.6.0)\n",
            "Requirement already satisfied: aiohttp in /usr/local/lib/python3.10/dist-packages (from datasets) (3.9.5)\n",
            "Requirement already satisfied: huggingface-hub>=0.21.2 in /usr/local/lib/python3.10/dist-packages (from datasets) (0.23.4)\n",
            "Requirement already satisfied: packaging in /usr/local/lib/python3.10/dist-packages (from datasets) (24.1)\n",
            "Requirement already satisfied: pyyaml>=5.1 in /usr/local/lib/python3.10/dist-packages (from datasets) (6.0.1)\n",
            "Requirement already satisfied: aiosignal>=1.1.2 in /usr/local/lib/python3.10/dist-packages (from aiohttp->datasets) (1.3.1)\n",
            "Requirement already satisfied: attrs>=17.3.0 in /usr/local/lib/python3.10/dist-packages (from aiohttp->datasets) (23.2.0)\n",
            "Requirement already satisfied: frozenlist>=1.1.1 in /usr/local/lib/python3.10/dist-packages (from aiohttp->datasets) (1.4.1)\n",
            "Requirement already satisfied: multidict<7.0,>=4.5 in /usr/local/lib/python3.10/dist-packages (from aiohttp->datasets) (6.0.5)\n",
            "Requirement already satisfied: yarl<2.0,>=1.0 in /usr/local/lib/python3.10/dist-packages (from aiohttp->datasets) (1.9.4)\n",
            "Requirement already satisfied: async-timeout<5.0,>=4.0 in /usr/local/lib/python3.10/dist-packages (from aiohttp->datasets) (4.0.3)\n",
            "Requirement already satisfied: typing-extensions>=3.7.4.3 in /usr/local/lib/python3.10/dist-packages (from huggingface-hub>=0.21.2->datasets) (4.12.2)\n",
            "Requirement already satisfied: charset-normalizer<4,>=2 in /usr/local/lib/python3.10/dist-packages (from requests>=2.32.2->datasets) (3.3.2)\n",
            "Requirement already satisfied: idna<4,>=2.5 in /usr/local/lib/python3.10/dist-packages (from requests>=2.32.2->datasets) (3.7)\n",
            "Requirement already satisfied: urllib3<3,>=1.21.1 in /usr/local/lib/python3.10/dist-packages (from requests>=2.32.2->datasets) (2.0.7)\n",
            "Requirement already satisfied: certifi>=2017.4.17 in /usr/local/lib/python3.10/dist-packages (from requests>=2.32.2->datasets) (2024.6.2)\n",
            "Requirement already satisfied: python-dateutil>=2.8.2 in /usr/local/lib/python3.10/dist-packages (from pandas->datasets) (2.8.2)\n",
            "Requirement already satisfied: pytz>=2020.1 in /usr/local/lib/python3.10/dist-packages (from pandas->datasets) (2023.4)\n",
            "Requirement already satisfied: tzdata>=2022.1 in /usr/local/lib/python3.10/dist-packages (from pandas->datasets) (2024.1)\n",
            "Requirement already satisfied: six>=1.5 in /usr/local/lib/python3.10/dist-packages (from python-dateutil>=2.8.2->pandas->datasets) (1.16.0)\n",
            "Requirement already satisfied: transformers in /usr/local/lib/python3.10/dist-packages (4.41.2)\n",
            "Requirement already satisfied: filelock in /usr/local/lib/python3.10/dist-packages (from transformers) (3.15.4)\n",
            "Requirement already satisfied: huggingface-hub<1.0,>=0.23.0 in /usr/local/lib/python3.10/dist-packages (from transformers) (0.23.4)\n",
            "Requirement already satisfied: numpy>=1.17 in /usr/local/lib/python3.10/dist-packages (from transformers) (1.25.2)\n",
            "Requirement already satisfied: packaging>=20.0 in /usr/local/lib/python3.10/dist-packages (from transformers) (24.1)\n",
            "Requirement already satisfied: pyyaml>=5.1 in /usr/local/lib/python3.10/dist-packages (from transformers) (6.0.1)\n",
            "Requirement already satisfied: regex!=2019.12.17 in /usr/local/lib/python3.10/dist-packages (from transformers) (2024.5.15)\n",
            "Requirement already satisfied: requests in /usr/local/lib/python3.10/dist-packages (from transformers) (2.32.3)\n",
            "Requirement already satisfied: tokenizers<0.20,>=0.19 in /usr/local/lib/python3.10/dist-packages (from transformers) (0.19.1)\n",
            "Requirement already satisfied: safetensors>=0.4.1 in /usr/local/lib/python3.10/dist-packages (from transformers) (0.4.3)\n",
            "Requirement already satisfied: tqdm>=4.27 in /usr/local/lib/python3.10/dist-packages (from transformers) (4.66.4)\n",
            "Requirement already satisfied: fsspec>=2023.5.0 in /usr/local/lib/python3.10/dist-packages (from huggingface-hub<1.0,>=0.23.0->transformers) (2023.6.0)\n",
            "Requirement already satisfied: typing-extensions>=3.7.4.3 in /usr/local/lib/python3.10/dist-packages (from huggingface-hub<1.0,>=0.23.0->transformers) (4.12.2)\n",
            "Requirement already satisfied: charset-normalizer<4,>=2 in /usr/local/lib/python3.10/dist-packages (from requests->transformers) (3.3.2)\n",
            "Requirement already satisfied: idna<4,>=2.5 in /usr/local/lib/python3.10/dist-packages (from requests->transformers) (3.7)\n",
            "Requirement already satisfied: urllib3<3,>=1.21.1 in /usr/local/lib/python3.10/dist-packages (from requests->transformers) (2.0.7)\n",
            "Requirement already satisfied: certifi>=2017.4.17 in /usr/local/lib/python3.10/dist-packages (from requests->transformers) (2024.6.2)\n",
            "Requirement already satisfied: accelerate in /usr/local/lib/python3.10/dist-packages (0.32.1)\n",
            "Requirement already satisfied: numpy<2.0.0,>=1.17 in /usr/local/lib/python3.10/dist-packages (from accelerate) (1.25.2)\n",
            "Requirement already satisfied: packaging>=20.0 in /usr/local/lib/python3.10/dist-packages (from accelerate) (24.1)\n",
            "Requirement already satisfied: psutil in /usr/local/lib/python3.10/dist-packages (from accelerate) (5.9.5)\n",
            "Requirement already satisfied: pyyaml in /usr/local/lib/python3.10/dist-packages (from accelerate) (6.0.1)\n",
            "Requirement already satisfied: torch>=1.10.0 in /usr/local/lib/python3.10/dist-packages (from accelerate) (2.3.0+cu121)\n",
            "Requirement already satisfied: huggingface-hub in /usr/local/lib/python3.10/dist-packages (from accelerate) (0.23.4)\n",
            "Requirement already satisfied: safetensors>=0.3.1 in /usr/local/lib/python3.10/dist-packages (from accelerate) (0.4.3)\n",
            "Requirement already satisfied: filelock in /usr/local/lib/python3.10/dist-packages (from torch>=1.10.0->accelerate) (3.15.4)\n",
            "Requirement already satisfied: typing-extensions>=4.8.0 in /usr/local/lib/python3.10/dist-packages (from torch>=1.10.0->accelerate) (4.12.2)\n",
            "Requirement already satisfied: sympy in /usr/local/lib/python3.10/dist-packages (from torch>=1.10.0->accelerate) (1.12.1)\n",
            "Requirement already satisfied: networkx in /usr/local/lib/python3.10/dist-packages (from torch>=1.10.0->accelerate) (3.3)\n",
            "Requirement already satisfied: jinja2 in /usr/local/lib/python3.10/dist-packages (from torch>=1.10.0->accelerate) (3.1.4)\n",
            "Requirement already satisfied: fsspec in /usr/local/lib/python3.10/dist-packages (from torch>=1.10.0->accelerate) (2023.6.0)\n",
            "Requirement already satisfied: nvidia-cuda-nvrtc-cu12==12.1.105 in /usr/local/lib/python3.10/dist-packages (from torch>=1.10.0->accelerate) (12.1.105)\n",
            "Requirement already satisfied: nvidia-cuda-runtime-cu12==12.1.105 in /usr/local/lib/python3.10/dist-packages (from torch>=1.10.0->accelerate) (12.1.105)\n",
            "Requirement already satisfied: nvidia-cuda-cupti-cu12==12.1.105 in /usr/local/lib/python3.10/dist-packages (from torch>=1.10.0->accelerate) (12.1.105)\n",
            "Requirement already satisfied: nvidia-cudnn-cu12==8.9.2.26 in /usr/local/lib/python3.10/dist-packages (from torch>=1.10.0->accelerate) (8.9.2.26)\n",
            "Requirement already satisfied: nvidia-cublas-cu12==12.1.3.1 in /usr/local/lib/python3.10/dist-packages (from torch>=1.10.0->accelerate) (12.1.3.1)\n",
            "Requirement already satisfied: nvidia-cufft-cu12==11.0.2.54 in /usr/local/lib/python3.10/dist-packages (from torch>=1.10.0->accelerate) (11.0.2.54)\n",
            "Requirement already satisfied: nvidia-curand-cu12==10.3.2.106 in /usr/local/lib/python3.10/dist-packages (from torch>=1.10.0->accelerate) (10.3.2.106)\n",
            "Requirement already satisfied: nvidia-cusolver-cu12==11.4.5.107 in /usr/local/lib/python3.10/dist-packages (from torch>=1.10.0->accelerate) (11.4.5.107)\n",
            "Requirement already satisfied: nvidia-cusparse-cu12==12.1.0.106 in /usr/local/lib/python3.10/dist-packages (from torch>=1.10.0->accelerate) (12.1.0.106)\n",
            "Requirement already satisfied: nvidia-nccl-cu12==2.20.5 in /usr/local/lib/python3.10/dist-packages (from torch>=1.10.0->accelerate) (2.20.5)\n",
            "Requirement already satisfied: nvidia-nvtx-cu12==12.1.105 in /usr/local/lib/python3.10/dist-packages (from torch>=1.10.0->accelerate) (12.1.105)\n",
            "Requirement already satisfied: triton==2.3.0 in /usr/local/lib/python3.10/dist-packages (from torch>=1.10.0->accelerate) (2.3.0)\n",
            "Requirement already satisfied: nvidia-nvjitlink-cu12 in /usr/local/lib/python3.10/dist-packages (from nvidia-cusolver-cu12==11.4.5.107->torch>=1.10.0->accelerate) (12.5.82)\n",
            "Requirement already satisfied: requests in /usr/local/lib/python3.10/dist-packages (from huggingface-hub->accelerate) (2.32.3)\n",
            "Requirement already satisfied: tqdm>=4.42.1 in /usr/local/lib/python3.10/dist-packages (from huggingface-hub->accelerate) (4.66.4)\n",
            "Requirement already satisfied: MarkupSafe>=2.0 in /usr/local/lib/python3.10/dist-packages (from jinja2->torch>=1.10.0->accelerate) (2.1.5)\n",
            "Requirement already satisfied: charset-normalizer<4,>=2 in /usr/local/lib/python3.10/dist-packages (from requests->huggingface-hub->accelerate) (3.3.2)\n",
            "Requirement already satisfied: idna<4,>=2.5 in /usr/local/lib/python3.10/dist-packages (from requests->huggingface-hub->accelerate) (3.7)\n",
            "Requirement already satisfied: urllib3<3,>=1.21.1 in /usr/local/lib/python3.10/dist-packages (from requests->huggingface-hub->accelerate) (2.0.7)\n",
            "Requirement already satisfied: certifi>=2017.4.17 in /usr/local/lib/python3.10/dist-packages (from requests->huggingface-hub->accelerate) (2024.6.2)\n",
            "Requirement already satisfied: mpmath<1.4.0,>=1.1.0 in /usr/local/lib/python3.10/dist-packages (from sympy->torch>=1.10.0->accelerate) (1.3.0)\n",
            "Requirement already satisfied: transformers[torch] in /usr/local/lib/python3.10/dist-packages (4.41.2)\n",
            "Requirement already satisfied: filelock in /usr/local/lib/python3.10/dist-packages (from transformers[torch]) (3.15.4)\n",
            "Requirement already satisfied: huggingface-hub<1.0,>=0.23.0 in /usr/local/lib/python3.10/dist-packages (from transformers[torch]) (0.23.4)\n",
            "Requirement already satisfied: numpy>=1.17 in /usr/local/lib/python3.10/dist-packages (from transformers[torch]) (1.25.2)\n",
            "Requirement already satisfied: packaging>=20.0 in /usr/local/lib/python3.10/dist-packages (from transformers[torch]) (24.1)\n",
            "Requirement already satisfied: pyyaml>=5.1 in /usr/local/lib/python3.10/dist-packages (from transformers[torch]) (6.0.1)\n",
            "Requirement already satisfied: regex!=2019.12.17 in /usr/local/lib/python3.10/dist-packages (from transformers[torch]) (2024.5.15)\n",
            "Requirement already satisfied: requests in /usr/local/lib/python3.10/dist-packages (from transformers[torch]) (2.32.3)\n",
            "Requirement already satisfied: tokenizers<0.20,>=0.19 in /usr/local/lib/python3.10/dist-packages (from transformers[torch]) (0.19.1)\n",
            "Requirement already satisfied: safetensors>=0.4.1 in /usr/local/lib/python3.10/dist-packages (from transformers[torch]) (0.4.3)\n",
            "Requirement already satisfied: tqdm>=4.27 in /usr/local/lib/python3.10/dist-packages (from transformers[torch]) (4.66.4)\n",
            "Requirement already satisfied: torch in /usr/local/lib/python3.10/dist-packages (from transformers[torch]) (2.3.0+cu121)\n",
            "Requirement already satisfied: accelerate>=0.21.0 in /usr/local/lib/python3.10/dist-packages (from transformers[torch]) (0.32.1)\n",
            "Requirement already satisfied: psutil in /usr/local/lib/python3.10/dist-packages (from accelerate>=0.21.0->transformers[torch]) (5.9.5)\n",
            "Requirement already satisfied: fsspec>=2023.5.0 in /usr/local/lib/python3.10/dist-packages (from huggingface-hub<1.0,>=0.23.0->transformers[torch]) (2023.6.0)\n",
            "Requirement already satisfied: typing-extensions>=3.7.4.3 in /usr/local/lib/python3.10/dist-packages (from huggingface-hub<1.0,>=0.23.0->transformers[torch]) (4.12.2)\n",
            "Requirement already satisfied: sympy in /usr/local/lib/python3.10/dist-packages (from torch->transformers[torch]) (1.12.1)\n",
            "Requirement already satisfied: networkx in /usr/local/lib/python3.10/dist-packages (from torch->transformers[torch]) (3.3)\n",
            "Requirement already satisfied: jinja2 in /usr/local/lib/python3.10/dist-packages (from torch->transformers[torch]) (3.1.4)\n",
            "Requirement already satisfied: nvidia-cuda-nvrtc-cu12==12.1.105 in /usr/local/lib/python3.10/dist-packages (from torch->transformers[torch]) (12.1.105)\n",
            "Requirement already satisfied: nvidia-cuda-runtime-cu12==12.1.105 in /usr/local/lib/python3.10/dist-packages (from torch->transformers[torch]) (12.1.105)\n",
            "Requirement already satisfied: nvidia-cuda-cupti-cu12==12.1.105 in /usr/local/lib/python3.10/dist-packages (from torch->transformers[torch]) (12.1.105)\n",
            "Requirement already satisfied: nvidia-cudnn-cu12==8.9.2.26 in /usr/local/lib/python3.10/dist-packages (from torch->transformers[torch]) (8.9.2.26)\n",
            "Requirement already satisfied: nvidia-cublas-cu12==12.1.3.1 in /usr/local/lib/python3.10/dist-packages (from torch->transformers[torch]) (12.1.3.1)\n",
            "Requirement already satisfied: nvidia-cufft-cu12==11.0.2.54 in /usr/local/lib/python3.10/dist-packages (from torch->transformers[torch]) (11.0.2.54)\n",
            "Requirement already satisfied: nvidia-curand-cu12==10.3.2.106 in /usr/local/lib/python3.10/dist-packages (from torch->transformers[torch]) (10.3.2.106)\n",
            "Requirement already satisfied: nvidia-cusolver-cu12==11.4.5.107 in /usr/local/lib/python3.10/dist-packages (from torch->transformers[torch]) (11.4.5.107)\n",
            "Requirement already satisfied: nvidia-cusparse-cu12==12.1.0.106 in /usr/local/lib/python3.10/dist-packages (from torch->transformers[torch]) (12.1.0.106)\n",
            "Requirement already satisfied: nvidia-nccl-cu12==2.20.5 in /usr/local/lib/python3.10/dist-packages (from torch->transformers[torch]) (2.20.5)\n",
            "Requirement already satisfied: nvidia-nvtx-cu12==12.1.105 in /usr/local/lib/python3.10/dist-packages (from torch->transformers[torch]) (12.1.105)\n",
            "Requirement already satisfied: triton==2.3.0 in /usr/local/lib/python3.10/dist-packages (from torch->transformers[torch]) (2.3.0)\n",
            "Requirement already satisfied: nvidia-nvjitlink-cu12 in /usr/local/lib/python3.10/dist-packages (from nvidia-cusolver-cu12==11.4.5.107->torch->transformers[torch]) (12.5.82)\n",
            "Requirement already satisfied: charset-normalizer<4,>=2 in /usr/local/lib/python3.10/dist-packages (from requests->transformers[torch]) (3.3.2)\n",
            "Requirement already satisfied: idna<4,>=2.5 in /usr/local/lib/python3.10/dist-packages (from requests->transformers[torch]) (3.7)\n",
            "Requirement already satisfied: urllib3<3,>=1.21.1 in /usr/local/lib/python3.10/dist-packages (from requests->transformers[torch]) (2.0.7)\n",
            "Requirement already satisfied: certifi>=2017.4.17 in /usr/local/lib/python3.10/dist-packages (from requests->transformers[torch]) (2024.6.2)\n",
            "Requirement already satisfied: MarkupSafe>=2.0 in /usr/local/lib/python3.10/dist-packages (from jinja2->torch->transformers[torch]) (2.1.5)\n",
            "Requirement already satisfied: mpmath<1.4.0,>=1.1.0 in /usr/local/lib/python3.10/dist-packages (from sympy->torch->transformers[torch]) (1.3.0)\n"
          ]
        }
      ]
    },
    {
      "cell_type": "code",
      "metadata": {
        "colab": {
          "base_uri": "https://localhost:8080/"
        },
        "id": "Wdk6SawN-Ahb",
        "outputId": "af2f0817-03b0-4d79-fc6c-919f0c206bb2"
      },
      "source": [
        "import numpy as np\n",
        "from datasets import load_dataset\n",
        "\n",
        "\n",
        "raw_datasets = load_dataset(\"imdb\")\n"
      ],
      "execution_count": 3,
      "outputs": [
        {
          "output_type": "stream",
          "name": "stderr",
          "text": [
            "/usr/local/lib/python3.10/dist-packages/huggingface_hub/utils/_token.py:89: UserWarning: \n",
            "The secret `HF_TOKEN` does not exist in your Colab secrets.\n",
            "To authenticate with the Hugging Face Hub, create a token in your settings tab (https://huggingface.co/settings/tokens), set it as secret in your Google Colab and restart your session.\n",
            "You will be able to reuse this secret in all of your notebooks.\n",
            "Please note that authentication is recommended but still optional to access public models or datasets.\n",
            "  warnings.warn(\n"
          ]
        }
      ]
    },
    {
      "cell_type": "code",
      "metadata": {
        "id": "Pnx3G7V8-PiR"
      },
      "source": [
        "\n",
        "from nltk.tokenize import word_tokenize\n",
        "import json\n",
        "\n",
        "with open(\"vocab.json\") as f:\n",
        "  vocab = json.load(f)\n",
        "\n",
        "def tokenize_function(example):\n",
        "  sentences = [x.lower() for x in example['text']]\n",
        "  tokenized_sentences = [word_tokenize(x) for x in sentences]\n",
        "  tokenized_idx = [[vocab[word] if word in vocab else vocab[\"unk\"] for word in x] for x in tokenized_sentences]\n",
        "  max_size = max([len(x) for x in tokenized_idx])\n",
        "  final_tokenized_idx = tokenized_idx\n",
        "\n",
        "  return {\"labels\":example['label'],'input_ids':final_tokenized_idx}"
      ],
      "execution_count": 4,
      "outputs": []
    },
    {
      "cell_type": "code",
      "metadata": {
        "id": "wB21r_h3A7yB"
      },
      "source": [
        "small_train_dataset = raw_datasets['train'].shuffle(seed=42).map(tokenize_function,batched=True)\n",
        "small_eval_dataset = raw_datasets['test'].shuffle(seed=42).map(tokenize_function,batched=True)"
      ],
      "execution_count": 5,
      "outputs": []
    },
    {
      "cell_type": "code",
      "metadata": {
        "id": "mI0aXI_ip2v1"
      },
      "source": [
        "def pad_sequence_to_length(\n",
        "    sequence,\n",
        "    desired_length: int,\n",
        "    default_value = lambda: 0,\n",
        "    padding_on_right: bool = True,\n",
        "):\n",
        "    sequence = list(sequence)\n",
        "    # Truncates the sequence to the desired length.\n",
        "    if padding_on_right:\n",
        "        padded_sequence = sequence[:desired_length]\n",
        "    else:\n",
        "        padded_sequence = sequence[-desired_length:]\n",
        "    # Continues to pad with default_value() until we reach the desired length.\n",
        "    pad_length = desired_length - len(padded_sequence)\n",
        "    # This just creates the default value once, so if it's a list, and if it gets mutated\n",
        "    # later, it could cause subtle bugs. But the risk there is low, and this is much faster.\n",
        "    values_to_pad = [default_value()] * pad_length\n",
        "    if padding_on_right:\n",
        "        padded_sequence = padded_sequence + values_to_pad\n",
        "    else:\n",
        "        padded_sequence = values_to_pad + padded_sequence\n",
        "    return padded_sequence"
      ],
      "execution_count": 6,
      "outputs": []
    },
    {
      "cell_type": "code",
      "metadata": {
        "id": "7xGIcwomAG3e",
        "outputId": "b563b988-e1cd-4d2d-e5e3-642fc348869f",
        "colab": {
          "base_uri": "https://localhost:8080/"
        }
      },
      "source": [
        "from datasets import load_metric\n",
        "\n",
        "metric = load_metric(\"accuracy\")\n",
        "\n",
        "def compute_metrics(eval_pred):\n",
        "    logits = eval_pred.predictions\n",
        "    labels = eval_pred.label_ids\n",
        "    predictions = np.argmax(logits, axis=-1)\n",
        "    return metric.compute(predictions=predictions, references=labels)"
      ],
      "execution_count": 7,
      "outputs": [
        {
          "output_type": "stream",
          "name": "stderr",
          "text": [
            "<ipython-input-7-c6aba47c7ef1>:3: FutureWarning: load_metric is deprecated and will be removed in the next major version of datasets. Use 'evaluate.load' instead, from the new library 🤗 Evaluate: https://huggingface.co/docs/evaluate\n",
            "  metric = load_metric(\"accuracy\")\n"
          ]
        }
      ]
    },
    {
      "cell_type": "code",
      "metadata": {
        "id": "YnOoHih5WzQf"
      },
      "source": [
        "from dataclasses import dataclass\n",
        "\n",
        "@dataclass\n",
        "class DataCollatorWithPadding:\n",
        "\n",
        "  def __call__(self, features):\n",
        "    features_dict={}\n",
        "    if \"labels\" in features[0]:\n",
        "\n",
        "      features_dict[\"labels\"] = torch.tensor([x.pop(\"labels\") for x in features]).long()\n",
        "\n",
        "    input_ids = [x.pop(\"input_ids\") for x in features]\n",
        "    max_len = max(len(x) for x in input_ids)\n",
        "    masks = [[1]*len(x) for x in input_ids]\n",
        "\n",
        "    features_dict[\"input_ids\"] = torch.tensor([pad_sequence_to_length(x,max_len) for x in input_ids]).long()\n",
        "    features_dict[\"attention_masks\"] = torch.tensor([pad_sequence_to_length(x,max_len) for x in masks]).long()\n",
        "\n",
        "    return features_dict\n"
      ],
      "execution_count": 8,
      "outputs": []
    },
    {
      "cell_type": "code",
      "metadata": {
        "id": "lC1VDdd1DfSQ",
        "outputId": "7d0f4e33-a238-4cbf-809d-04d080f3ef7e",
        "colab": {
          "base_uri": "https://localhost:8080/",
          "height": 125
        }
      },
      "source": [
        "from torch import nn\n",
        "import torch\n",
        "#Use nn.Sequential and nn.Linear for the network, and nn.CrossEntropyLoss for the loss.\n",
        "#Make sure that the final layer has output dimension of size 2.\n",
        "# for A\n",
        "'''\n",
        "class DAN(nn.Module):\n",
        "  def __init__(self, drop_out_rate):\n",
        "          super().__init__()\n",
        "          self.num_labels = 2\n",
        "          self.embeddings = nn.Embedding.from_pretrained(torch.FloatTensor(np.load(\"glove.npy\")))\n",
        "          self.dropout = nn.Dropout(drop_out_rate)\n",
        "          # YOUR CODE HERE\n",
        "          self.classifier = nn.Sequential(\n",
        "            nn.Linear(self.embeddings.embedding_dim, 128),\n",
        "            nn.ReLU(),\n",
        "            nn.Linear(128, 64),\n",
        "            nn.ReLU(),\n",
        "            nn.Linear(64, 32),\n",
        "            nn.ReLU(),\n",
        "            nn.Linear(32, self.num_labels)\n",
        "          )\n",
        "          self.loss = nn.CrossEntropyLoss()\n",
        "          # END YOUR END\n",
        "\n",
        "\n",
        "  def forward(self,input_ids,attention_masks, labels=None, **kwargs):\n",
        "      # YOUR CODE HERE\n",
        "      embeddings = self.embeddings(input_ids)\n",
        "      if self.training:\n",
        "            embeddings = self.dropout(embeddings)\n",
        "      avg = torch.mean(embeddings, dim=1)\n",
        "      # END YOUR END\n",
        "      res = self.classifier(avg)\n",
        "      loss = self.loss(res,labels)\n",
        "      return {\"loss\":loss,\"logits\":res}\n",
        "\n",
        "'''"
      ],
      "execution_count": 9,
      "outputs": [
        {
          "output_type": "execute_result",
          "data": {
            "text/plain": [
              "'\\nclass DAN(nn.Module):\\n  def __init__(self, drop_out_rate):\\n          super().__init__()\\n          self.num_labels = 2\\n          self.embeddings = nn.Embedding.from_pretrained(torch.FloatTensor(np.load(\"glove.npy\")))\\n          self.dropout = nn.Dropout(drop_out_rate)\\n          # YOUR CODE HERE\\n          self.classifier = nn.Sequential(\\n            nn.Linear(self.embeddings.embedding_dim, 128),\\n            nn.ReLU(),\\n            nn.Linear(128, 64),\\n            nn.ReLU(),\\n            nn.Linear(64, 32),\\n            nn.ReLU(),\\n            nn.Linear(32, self.num_labels)\\n          )\\n          self.loss = nn.CrossEntropyLoss()\\n          # END YOUR END\\n        \\n\\n  def forward(self,input_ids,attention_masks, labels=None, **kwargs):\\n      # YOUR CODE HERE\\n      embeddings = self.embeddings(input_ids) \\n      if self.training:\\n            embeddings = self.dropout(embeddings)\\n      avg = torch.mean(embeddings, dim=1)\\n      # END YOUR END\\n      res = self.classifier(avg)\\n      loss = self.loss(res,labels)\\n      return {\"loss\":loss,\"logits\":res}\\n\\n'"
            ],
            "application/vnd.google.colaboratory.intrinsic+json": {
              "type": "string"
            }
          },
          "metadata": {},
          "execution_count": 9
        }
      ]
    },
    {
      "cell_type": "code",
      "source": [
        "from transformers import TrainerCallback\n",
        "\n",
        "class AccuracyLoggingCallback(TrainerCallback):\n",
        "    def __init__(self):\n",
        "        self.epoch_eval_accuracies = []\n",
        "\n",
        "    def on_evaluate(self, args, state, control, metrics=None, **kwargs):\n",
        "        if metrics is not None and 'eval_accuracy' in metrics:\n",
        "            self.epoch_eval_accuracies.append(metrics['eval_accuracy'])\n"
      ],
      "metadata": {
        "id": "YUb1Z470Btd_"
      },
      "execution_count": 10,
      "outputs": []
    },
    {
      "cell_type": "code",
      "metadata": {
        "id": "yTle329KAw19",
        "outputId": "6f28c2eb-8712-4224-ea4c-b734474aaded",
        "colab": {
          "base_uri": "https://localhost:8080/",
          "height": 107
        }
      },
      "source": [
        "#Hint: You may want to look at https://huggingface.co/transformers/main_classes/callback.html\n",
        "#B\n",
        "'''\n",
        "from transformers import Trainer\n",
        "from transformers import TrainingArguments\n",
        "from transformers.trainer_callback import DefaultFlowCallback\n",
        "\n",
        "co = DataCollatorWithPadding()\n",
        "training_args = TrainingArguments(\"DAN\",\n",
        "                                  # YOUR CODE HERE\n",
        "                                  num_train_epochs=10, #must be at least 10.\n",
        "                                  per_device_train_batch_size=16,\n",
        "                                  per_device_eval_batch_size=16,\n",
        "                                  learning_rate=0.015,\n",
        "                                  # END YOUR END\n",
        "\n",
        "                                  save_total_limit=2,\n",
        "                                  log_level=\"error\",\n",
        "                                  evaluation_strategy=\"epoch\")\n",
        "\n",
        "models = []\n",
        "trainers = []\n",
        "dropout_rates = [0.0, 0.1, 0.2, 0.3, 0.4, 0.5]\n",
        "for p in dropout_rates:\n",
        "  accuracy_callback = AccuracyLoggingCallback()\n",
        "  m = DAN(drop_out_rate=p)\n",
        "  models.append(m)\n",
        "  trainer = Trainer(\n",
        "    model=m,\n",
        "    data_collator=co,\n",
        "    args=training_args,\n",
        "    callbacks = [\n",
        "                 # YOUR CODE HERE\n",
        "                 DefaultFlowCallback(),\n",
        "                 accuracy_callback\n",
        "                 # END YOUR END\n",
        "    ],\n",
        "    train_dataset=small_train_dataset,\n",
        "    eval_dataset=small_eval_dataset,\n",
        "    compute_metrics=compute_metrics,\n",
        "  )\n",
        "  trainers.append((trainer, accuracy_callback))\n",
        "'''"
      ],
      "execution_count": 11,
      "outputs": [
        {
          "output_type": "execute_result",
          "data": {
            "text/plain": [
              "'\\nfrom transformers import Trainer\\nfrom transformers import TrainingArguments\\nfrom transformers.trainer_callback import DefaultFlowCallback\\n\\nco = DataCollatorWithPadding()\\ntraining_args = TrainingArguments(\"DAN\",\\n                                  # YOUR CODE HERE\\n                                  num_train_epochs=10, #must be at least 10.\\n                                  per_device_train_batch_size=16,\\n                                  per_device_eval_batch_size=16,\\n                                  learning_rate=0.015,\\n                                  # END YOUR END\\n                                  \\n                                  save_total_limit=2,\\n                                  log_level=\"error\",\\n                                  evaluation_strategy=\"epoch\")\\n\\nmodels = []\\ntrainers = []\\ndropout_rates = [0.0, 0.1, 0.2, 0.3, 0.4, 0.5]\\nfor p in dropout_rates:\\n  accuracy_callback = AccuracyLoggingCallback()\\n  m = DAN(drop_out_rate=p)\\n  models.append(m)\\n  trainer = Trainer(\\n    model=m,\\n    data_collator=co,\\n    args=training_args,\\n    callbacks = [\\n                 # YOUR CODE HERE\\n                 DefaultFlowCallback(),\\n                 accuracy_callback\\n                 # END YOUR END\\n    ],\\n    train_dataset=small_train_dataset,\\n    eval_dataset=small_eval_dataset,\\n    compute_metrics=compute_metrics,\\n  )\\n  trainers.append((trainer, accuracy_callback))\\n'"
            ],
            "application/vnd.google.colaboratory.intrinsic+json": {
              "type": "string"
            }
          },
          "metadata": {},
          "execution_count": 11
        }
      ]
    },
    {
      "cell_type": "code",
      "metadata": {
        "id": "1HvPThWvCq1F",
        "outputId": "b71abb5f-2972-4ca5-b1a5-0ea69c021a38",
        "colab": {
          "base_uri": "https://localhost:8080/",
          "height": 53
        }
      },
      "source": [
        "# B\n",
        "# Train each model and collect accuracy data\n",
        "'''\n",
        "model_names = [\"Model 0 (Dropout 0.)\", \"Model 1 (Dropout 0.1)\", \"Model 2 (Dropout 0.2)\", \"Model 3 (Dropout 0.3)\", \"Model 4 (Dropout 0.4)\", \"Model 5 (Dropout 0.5)\"]\n",
        "best_accuracies = []\n",
        "for trainer, accuracy_callback in trainers:\n",
        "    trainer.train()\n",
        "    best_accuracy = max(accuracy_callback.epoch_eval_accuracies)\n",
        "    best_accuracies.append(best_accuracy)\n",
        "'''\n",
        ""
      ],
      "execution_count": 12,
      "outputs": [
        {
          "output_type": "execute_result",
          "data": {
            "text/plain": [
              "'\\nmodel_names = [\"Model 0 (Dropout 0.)\", \"Model 1 (Dropout 0.1)\", \"Model 2 (Dropout 0.2)\", \"Model 3 (Dropout 0.3)\", \"Model 4 (Dropout 0.4)\", \"Model 5 (Dropout 0.5)\"]\\nbest_accuracies = []\\nfor trainer, accuracy_callback in trainers:\\n    trainer.train()\\n    best_accuracy = max(accuracy_callback.epoch_eval_accuracies)\\n    best_accuracies.append(best_accuracy)\\n'"
            ],
            "application/vnd.google.colaboratory.intrinsic+json": {
              "type": "string"
            }
          },
          "metadata": {},
          "execution_count": 12
        }
      ]
    },
    {
      "cell_type": "code",
      "source": [
        "# for B\n",
        "# Plotting the accuracies\n",
        "'''\n",
        "import matplotlib.pyplot as plt\n",
        "\n",
        "plt.figure(figsize=(10, 6))\n",
        "plt.plot(model_names, best_accuracies)\n",
        "\n",
        "plt.xlabel('model')\n",
        "plt.ylabel('Best accuracy')\n",
        "plt.title('Evaluation Accuracy per dropout rate')\n",
        "plt.legend()\n",
        "plt.grid(True)\n",
        "plt.tight_layout()\n",
        "\n",
        "# Save the plot as 'accuracy_plot.png'\n",
        "plt.savefig('accuracy_plot_per_dropout_rate.png')\n",
        "plt.show()\n",
        "'''"
      ],
      "metadata": {
        "id": "rM_8QUT1TmZw",
        "outputId": "5c12b56b-3f82-4507-a387-535760af6b82",
        "colab": {
          "base_uri": "https://localhost:8080/",
          "height": 53
        }
      },
      "execution_count": 13,
      "outputs": [
        {
          "output_type": "execute_result",
          "data": {
            "text/plain": [
              "\"\\nimport matplotlib.pyplot as plt\\n\\nplt.figure(figsize=(10, 6))\\nplt.plot(model_names, best_accuracies)\\n\\nplt.xlabel('model')\\nplt.ylabel('Best accuracy')\\nplt.title('Evaluation Accuracy per dropout rate')\\nplt.legend()\\nplt.grid(True)\\nplt.tight_layout()\\n\\n# Save the plot as 'accuracy_plot.png'\\nplt.savefig('accuracy_plot_per_dropout_rate.png')\\nplt.show()\\n\""
            ],
            "application/vnd.google.colaboratory.intrinsic+json": {
              "type": "string"
            }
          },
          "metadata": {},
          "execution_count": 13
        }
      ]
    },
    {
      "cell_type": "code",
      "source": [
        "# for A\n",
        "'''import matplotlib.pyplot as plt\n",
        "\n",
        "epochs = range(1, training_args.num_train_epochs + 1)\n",
        "print(epochs)\n",
        "print(accuracy_callback.epoch_eval_accuracies)\n",
        "plt.plot(epochs, accuracy_callback.epoch_eval_accuracies, marker='o')\n",
        "plt.xlabel('Epoch')\n",
        "plt.ylabel('Evaluation Accuracy')\n",
        "plt.title('Evaluation Accuracy per Epoch')\n",
        "plt.grid(True)\n",
        "plt.show()\n",
        "plt.savefig('plot.png')'''"
      ],
      "metadata": {
        "id": "EKB004wLB5kT",
        "outputId": "947f8b88-458b-4fff-ad4e-4b86379988ac",
        "colab": {
          "base_uri": "https://localhost:8080/",
          "height": 53
        }
      },
      "execution_count": 14,
      "outputs": [
        {
          "output_type": "execute_result",
          "data": {
            "text/plain": [
              "\"import matplotlib.pyplot as plt\\n\\nepochs = range(1, training_args.num_train_epochs + 1)\\nprint(epochs)\\nprint(accuracy_callback.epoch_eval_accuracies)\\nplt.plot(epochs, accuracy_callback.epoch_eval_accuracies, marker='o')\\nplt.xlabel('Epoch')\\nplt.ylabel('Evaluation Accuracy')\\nplt.title('Evaluation Accuracy per Epoch')\\nplt.grid(True)\\nplt.show()\\nplt.savefig('plot.png')\""
            ],
            "application/vnd.google.colaboratory.intrinsic+json": {
              "type": "string"
            }
          },
          "metadata": {},
          "execution_count": 14
        }
      ]
    },
    {
      "cell_type": "code",
      "source": [
        "# C\n",
        "'''\n",
        "from transformers import Trainer\n",
        "from transformers import TrainingArguments\n",
        "from transformers.trainer_callback import DefaultFlowCallback\n",
        "class DAN_C(nn.Module):\n",
        "    def __init__(self, num_hidden_layers):\n",
        "        super().__init__()\n",
        "        self.num_labels = 2\n",
        "          # YOUR CODE HERE\n",
        "        self.num_hidden_layers = num_hidden_layers\n",
        "        self.hidden_size = 128\n",
        "        self.embeddings = nn.Embedding.from_pretrained(torch.FloatTensor(np.load(\"glove.npy\")))\n",
        "        layers = []\n",
        "        if self.num_hidden_layers == 0:\n",
        "            layers = [nn.Linear(self.embeddings.embedding_dim, self.num_labels)]\n",
        "        else:\n",
        "            for i in range(num_hidden_layers):\n",
        "                if i == 0:\n",
        "                    layers.append(nn.Linear(self.embeddings.embedding_dim, self.hidden_size))\n",
        "                else:\n",
        "                    layers.append(nn.Linear(self.hidden_size, self.hidden_size))\n",
        "                layers.append(nn.ReLU(),)\n",
        "            layers.append(nn.Linear(self.hidden_size, self.num_labels),)\n",
        "        self.classifier = nn.Sequential(*layers)\n",
        "        self.loss = nn.CrossEntropyLoss()\n",
        "        # END YOUR END\n",
        "\n",
        "    def forward(self,input_ids,attention_masks, labels=None, **kwargs):\n",
        "        # YOUR CODE HERE\n",
        "        embeddings = self.embeddings(input_ids)\n",
        "        avg = torch.mean(embeddings, dim=1)\n",
        "        # END YOUR END\n",
        "        res = self.classifier(avg)\n",
        "        loss = self.loss(res,labels)\n",
        "        return {\"loss\":loss,\"logits\":res}\n",
        "'''"
      ],
      "metadata": {
        "id": "2U1ICbZ31Gk8",
        "outputId": "b9e899e6-2c57-4d8f-8980-04eac5ac7ae6",
        "colab": {
          "base_uri": "https://localhost:8080/",
          "height": 125
        }
      },
      "execution_count": 15,
      "outputs": [
        {
          "output_type": "execute_result",
          "data": {
            "text/plain": [
              "'\\nfrom transformers import Trainer\\nfrom transformers import TrainingArguments\\nfrom transformers.trainer_callback import DefaultFlowCallback\\nclass DAN_C(nn.Module):\\n    def __init__(self, num_hidden_layers):\\n        super().__init__()\\n        self.num_labels = 2\\n          # YOUR CODE HERE\\n        self.num_hidden_layers = num_hidden_layers\\n        self.hidden_size = 128\\n        self.embeddings = nn.Embedding.from_pretrained(torch.FloatTensor(np.load(\"glove.npy\")))\\n        layers = []\\n        if self.num_hidden_layers == 0:\\n            layers = [nn.Linear(self.embeddings.embedding_dim, self.num_labels)]\\n        else:\\n            for i in range(num_hidden_layers):\\n                if i == 0:\\n                    layers.append(nn.Linear(self.embeddings.embedding_dim, self.hidden_size))\\n                else:\\n                    layers.append(nn.Linear(self.hidden_size, self.hidden_size))\\n                layers.append(nn.ReLU(),)\\n            layers.append(nn.Linear(self.hidden_size, self.num_labels),)\\n        self.classifier = nn.Sequential(*layers)\\n        self.loss = nn.CrossEntropyLoss()\\n        # END YOUR END\\n\\n    def forward(self,input_ids,attention_masks, labels=None, **kwargs):\\n        # YOUR CODE HERE\\n        embeddings = self.embeddings(input_ids) \\n        avg = torch.mean(embeddings, dim=1)\\n        # END YOUR END\\n        res = self.classifier(avg)\\n        loss = self.loss(res,labels)\\n        return {\"loss\":loss,\"logits\":res}\\n'"
            ],
            "application/vnd.google.colaboratory.intrinsic+json": {
              "type": "string"
            }
          },
          "metadata": {},
          "execution_count": 15
        }
      ]
    },
    {
      "cell_type": "code",
      "source": [
        "# C\n",
        "'''\n",
        "class AccuracyLoggingCallback(TrainerCallback):\n",
        "    def __init__(self):\n",
        "        super().__init__()\n",
        "        self.epoch_eval_accuracies = []\n",
        "\n",
        "    def on_evaluate(self, args, state, control, metrics=None, **kwargs):\n",
        "        if metrics is not None and 'eval_accuracy' in metrics:\n",
        "            self.epoch_eval_accuracies.append(metrics['eval_accuracy'])\n",
        "\n",
        "# Initialize the data collator\n",
        "co = DataCollatorWithPadding()\n",
        "\n",
        "# Define training arguments\n",
        "training_args = TrainingArguments(\n",
        "    \"DAN\",\n",
        "    num_train_epochs=10,  # must be at least 10.\n",
        "    per_device_train_batch_size=16,\n",
        "    per_device_eval_batch_size=16,\n",
        "    learning_rate=0.015,\n",
        "    save_total_limit=2,\n",
        "    log_level=\"error\",\n",
        "    evaluation_strategy=\"epoch\"\n",
        ")\n",
        "\n",
        "# Define number of layers\n",
        "num_layers = [0, 1, 2, 3]\n",
        "models = []\n",
        "trainers = []\n",
        "\n",
        "# Create models and trainers for each number of layers\n",
        "for n in num_layers:\n",
        "    model = DAN_C(num_hidden_layers=n)\n",
        "    models.append(model)\n",
        "\n",
        "    # Create a new AccuracyLoggingCallback instance for each model\n",
        "    accuracy_callback = AccuracyLoggingCallback()\n",
        "\n",
        "    trainer = Trainer(\n",
        "        model=model,\n",
        "        data_collator=co,\n",
        "        args=training_args,\n",
        "        callbacks=[\n",
        "            DefaultFlowCallback(),\n",
        "            accuracy_callback\n",
        "        ],\n",
        "        train_dataset=small_train_dataset,\n",
        "        eval_dataset=small_eval_dataset,\n",
        "        compute_metrics=compute_metrics,\n",
        "    )\n",
        "\n",
        "    trainers.append((trainer, accuracy_callback))\n",
        "\n",
        "# Train each model and collect accuracy data\n",
        "best_accuracies = []\n",
        "for trainer, accuracy_callback in trainers:\n",
        "    trainer.train()\n",
        "    best_accuracy = max(accuracy_callback.epoch_eval_accuracies)\n",
        "    best_accuracies.append(best_accuracy)\n",
        "\n",
        "# Plotting the best accuracies\n",
        "plt.figure(figsize=(8, 6))\n",
        "plt.plot(num_layers, best_accuracies, marker='o', linestyle='-', color='b', label='Best Accuracy')\n",
        "\n",
        "plt.xlabel('Number of Hidden Layers')\n",
        "plt.ylabel('Best Accuracy')\n",
        "plt.title('Best Evaluation Accuracy for Different Number of Hidden Layers')\n",
        "plt.xticks(num_layers)\n",
        "plt.grid(True)\n",
        "plt.legend()\n",
        "plt.tight_layout()\n",
        "\n",
        "# Save the plot as 'best_accuracy_layers.png'\n",
        "plt.savefig('best_accuracy_layers.png')\n",
        "plt.show()\n",
        "'''"
      ],
      "metadata": {
        "id": "XBF9p7gsxqu9",
        "outputId": "b6e2cff1-09dc-4b98-aefe-3173b23f7650",
        "colab": {
          "base_uri": "https://localhost:8080/",
          "height": 125
        }
      },
      "execution_count": 16,
      "outputs": [
        {
          "output_type": "execute_result",
          "data": {
            "text/plain": [
              "'\\nclass AccuracyLoggingCallback(TrainerCallback):\\n    def __init__(self):\\n        super().__init__()\\n        self.epoch_eval_accuracies = []\\n\\n    def on_evaluate(self, args, state, control, metrics=None, **kwargs):\\n        if metrics is not None and \\'eval_accuracy\\' in metrics:\\n            self.epoch_eval_accuracies.append(metrics[\\'eval_accuracy\\'])\\n\\n# Initialize the data collator\\nco = DataCollatorWithPadding()\\n\\n# Define training arguments\\ntraining_args = TrainingArguments(\\n    \"DAN\",\\n    num_train_epochs=10,  # must be at least 10.\\n    per_device_train_batch_size=16,\\n    per_device_eval_batch_size=16,\\n    learning_rate=0.015,\\n    save_total_limit=2,\\n    log_level=\"error\",\\n    evaluation_strategy=\"epoch\"\\n)\\n\\n# Define number of layers\\nnum_layers = [0, 1, 2, 3]\\nmodels = []\\ntrainers = []\\n\\n# Create models and trainers for each number of layers\\nfor n in num_layers:\\n    model = DAN_C(num_hidden_layers=n)\\n    models.append(model)\\n    \\n    # Create a new AccuracyLoggingCallback instance for each model\\n    accuracy_callback = AccuracyLoggingCallback()\\n    \\n    trainer = Trainer(\\n        model=model,\\n        data_collator=co,\\n        args=training_args,\\n        callbacks=[\\n            DefaultFlowCallback(),\\n            accuracy_callback\\n        ],\\n        train_dataset=small_train_dataset,\\n        eval_dataset=small_eval_dataset,\\n        compute_metrics=compute_metrics,\\n    )\\n    \\n    trainers.append((trainer, accuracy_callback))\\n\\n# Train each model and collect accuracy data\\nbest_accuracies = []\\nfor trainer, accuracy_callback in trainers:\\n    trainer.train()\\n    best_accuracy = max(accuracy_callback.epoch_eval_accuracies)\\n    best_accuracies.append(best_accuracy)\\n\\n# Plotting the best accuracies\\nplt.figure(figsize=(8, 6))\\nplt.plot(num_layers, best_accuracies, marker=\\'o\\', linestyle=\\'-\\', color=\\'b\\', label=\\'Best Accuracy\\')\\n\\nplt.xlabel(\\'Number of Hidden Layers\\')\\nplt.ylabel(\\'Best Accuracy\\')\\nplt.title(\\'Best Evaluation Accuracy for Different Number of Hidden Layers\\')\\nplt.xticks(num_layers)\\nplt.grid(True)\\nplt.legend()\\nplt.tight_layout()\\n\\n# Save the plot as \\'best_accuracy_layers.png\\'\\nplt.savefig(\\'best_accuracy_layers.png\\')\\nplt.show()\\n'"
            ],
            "application/vnd.google.colaboratory.intrinsic+json": {
              "type": "string"
            }
          },
          "metadata": {},
          "execution_count": 16
        }
      ]
    },
    {
      "cell_type": "code",
      "source": [
        "# D\n",
        "import torch\n",
        "from torch import nn\n",
        "import numpy as np\n",
        "from transformers import TrainerCallback, Trainer, TrainingArguments, DefaultFlowCallback, DataCollatorWithPadding\n",
        "from transformers import Trainer\n",
        "from transformers import TrainingArguments\n",
        "\n",
        "class DAN_D(nn.Module):\n",
        "    def __init__(self, num_hidden_layers, activation_function):\n",
        "        super().__init__()\n",
        "        self.num_labels = 2\n",
        "        # YOUR CODE HERE\n",
        "        self.num_hidden_layers = num_hidden_layers\n",
        "        self.hidden_size = 128\n",
        "        self.embeddings = nn.Embedding.from_pretrained(torch.FloatTensor(np.load(\"glove.npy\")))\n",
        "        layers = []\n",
        "        if self.num_hidden_layers == 0:\n",
        "            layers = [nn.Linear(self.embeddings.embedding_dim, self.num_labels)]\n",
        "        else:\n",
        "            for i in range(num_hidden_layers):\n",
        "                if i == 0:\n",
        "                    layers.append(nn.Linear(self.embeddings.embedding_dim, self.hidden_size))\n",
        "                else:\n",
        "                    layers.append(nn.Linear(self.hidden_size, self.hidden_size))\n",
        "                layers.append(activation_function)\n",
        "            layers.append(nn.Linear(self.hidden_size, self.num_labels),)\n",
        "        self.classifier = nn.Sequential(*layers)\n",
        "        self.loss = nn.CrossEntropyLoss()\n",
        "        # END YOUR END\n",
        "    def forward(self,input_ids, labels=None, **kwargs):\n",
        "        # YOUR CODE HERE\n",
        "        embeddings = self.embeddings(input_ids)\n",
        "        avg = torch.mean(embeddings, dim=1)\n",
        "        # END YOUR END\n",
        "        res = self.classifier(avg)\n",
        "        loss = self.loss(res,labels)\n",
        "        return {\"loss\":loss,\"logits\":res}\n"
      ],
      "metadata": {
        "id": "TbgBh1q9z0NN"
      },
      "execution_count": 22,
      "outputs": []
    },
    {
      "cell_type": "code",
      "source": [
        "# D\n",
        "from transformers import TrainerCallback, Trainer, TrainingArguments, DefaultFlowCallback, DataCollatorWithPadding\n",
        "from transformers import AutoTokenizer\n",
        "class AccuracyLoggingCallback(TrainerCallback):\n",
        "    def __init__(self):\n",
        "        super().__init__()\n",
        "        self.epoch_eval_accuracies = []\n",
        "\n",
        "    def on_evaluate(self, args, state, control, metrics=None, **kwargs):\n",
        "        if metrics is not None and 'eval_accuracy' in metrics:\n",
        "            self.epoch_eval_accuracies.append(metrics['eval_accuracy'])\n",
        "\n",
        "# Initialize the tokenizer- added because without this got error\n",
        "tokenizer = AutoTokenizer.from_pretrained(\"bert-base-cased\") # Replace with the appropriate tokenizer\n",
        "\n",
        "# Initialize the data collator, passing the tokenizer as an argument\n",
        "co = DataCollatorWithPadding(tokenizer=tokenizer)\n",
        "\n",
        "# Define training arguments\n",
        "training_args = TrainingArguments(\n",
        "    \"DAN\",\n",
        "    num_train_epochs=12,  # must be at least 10.\n",
        "    per_device_train_batch_size=16,\n",
        "    per_device_eval_batch_size=16,\n",
        "    learning_rate=0.015,\n",
        "    save_total_limit=2,\n",
        "    log_level=\"error\",\n",
        "    evaluation_strategy=\"epoch\"\n",
        ")\n",
        "\n",
        "# Define activation functions\n",
        "activation_functions = [nn.ReLU(), nn.Mish(), nn.Sigmoid()]\n",
        "activation_names = [\"ReLU\", \"Tanh\", \"Sigmoid\"]\n",
        "num_hidden_layers = 2\n",
        "models = []\n",
        "trainers = []\n",
        "\n",
        "# Create models and trainers for each activation function\n",
        "for activation_function in activation_functions:\n",
        "    model = DAN_D(num_hidden_layers=num_hidden_layers, activation_function=activation_function)\n",
        "    models.append(model)\n",
        "\n",
        "    # Create a new AccuracyLoggingCallback instance for each model\n",
        "    accuracy_callback = AccuracyLoggingCallback()\n",
        "\n",
        "    trainer = Trainer(\n",
        "        model=model,\n",
        "        data_collator=co,\n",
        "        args=training_args,\n",
        "        callbacks=[\n",
        "            DefaultFlowCallback(),\n",
        "            accuracy_callback\n",
        "        ],\n",
        "        train_dataset=small_train_dataset,\n",
        "        eval_dataset=small_eval_dataset,\n",
        "        compute_metrics=compute_metrics,\n",
        "    )\n",
        "\n",
        "    trainers.append((trainer, accuracy_callback))\n",
        "\n",
        "# Train each model and collect accuracy data\n",
        "accuracies = []\n",
        "for trainer, accuracy_callback in trainers:\n",
        "    trainer.train()\n",
        "    accuracies.append(accuracy_callback.epoch_eval_accuracies)\n"
      ],
      "metadata": {
        "id": "73No_admzuhj",
        "outputId": "a31c2d70-fdbc-45a7-cedf-708a525ee230",
        "colab": {
          "base_uri": "https://localhost:8080/",
          "height": 1000
        }
      },
      "execution_count": 25,
      "outputs": [
        {
          "output_type": "stream",
          "name": "stderr",
          "text": [
            "/usr/local/lib/python3.10/dist-packages/transformers/training_args.py:1474: FutureWarning: `evaluation_strategy` is deprecated and will be removed in version 4.46 of 🤗 Transformers. Use `eval_strategy` instead\n",
            "  warnings.warn(\n"
          ]
        },
        {
          "output_type": "stream",
          "name": "stdout",
          "text": [
            "{'loss': 0.5759, 'grad_norm': 2.850815534591675, 'learning_rate': 0.014600127959053102, 'epoch': 0.3198976327575176}\n",
            "{'loss': 0.4646, 'grad_norm': 1.7837860584259033, 'learning_rate': 0.014200255918106206, 'epoch': 0.6397952655150352}\n",
            "{'loss': 0.4328, 'grad_norm': 0.870256245136261, 'learning_rate': 0.013800383877159308, 'epoch': 0.9596928982725528}\n",
            "{'eval_loss': 0.44542622566223145, 'eval_accuracy': 0.78932, 'eval_runtime': 28.7136, 'eval_samples_per_second': 870.667, 'eval_steps_per_second': 54.434, 'epoch': 1.0}\n",
            "{'loss': 0.4134, 'grad_norm': 0.36991286277770996, 'learning_rate': 0.01340051183621241, 'epoch': 1.2795905310300704}\n",
            "{'loss': 0.4206, 'grad_norm': 0.499484121799469, 'learning_rate': 0.013000639795265514, 'epoch': 1.599488163787588}\n",
            "{'loss': 0.4193, 'grad_norm': 1.2380361557006836, 'learning_rate': 0.012600767754318617, 'epoch': 1.9193857965451055}\n",
            "{'eval_loss': 0.39388981461524963, 'eval_accuracy': 0.82468, 'eval_runtime': 27.053, 'eval_samples_per_second': 924.112, 'eval_steps_per_second': 57.775, 'epoch': 2.0}\n",
            "{'loss': 0.4102, 'grad_norm': 0.6325511932373047, 'learning_rate': 0.01220089571337172, 'epoch': 2.239283429302623}\n",
            "{'loss': 0.3944, 'grad_norm': 0.5259055495262146, 'learning_rate': 0.011801023672424825, 'epoch': 2.5591810620601407}\n",
            "{'loss': 0.4037, 'grad_norm': 1.6726279258728027, 'learning_rate': 0.011401151631477927, 'epoch': 2.8790786948176583}\n",
            "{'eval_loss': 0.4178388714790344, 'eval_accuracy': 0.80576, 'eval_runtime': 27.9704, 'eval_samples_per_second': 893.802, 'eval_steps_per_second': 55.881, 'epoch': 3.0}\n",
            "{'loss': 0.391, 'grad_norm': 0.5285805463790894, 'learning_rate': 0.01100127959053103, 'epoch': 3.198976327575176}\n",
            "{'loss': 0.3943, 'grad_norm': 1.90546715259552, 'learning_rate': 0.010601407549584134, 'epoch': 3.5188739603326935}\n",
            "{'loss': 0.4027, 'grad_norm': 1.42145836353302, 'learning_rate': 0.010201535508637236, 'epoch': 3.838771593090211}\n",
            "{'eval_loss': 0.3844812512397766, 'eval_accuracy': 0.82828, 'eval_runtime': 26.6926, 'eval_samples_per_second': 936.588, 'eval_steps_per_second': 58.555, 'epoch': 4.0}\n",
            "{'loss': 0.3802, 'grad_norm': 1.4023783206939697, 'learning_rate': 0.009801663467690338, 'epoch': 4.158669225847729}\n",
            "{'loss': 0.3864, 'grad_norm': 0.2854834496974945, 'learning_rate': 0.009401791426743442, 'epoch': 4.478566858605246}\n",
            "{'loss': 0.3944, 'grad_norm': 1.5617691278457642, 'learning_rate': 0.009001919385796545, 'epoch': 4.798464491362764}\n",
            "{'eval_loss': 0.4047008156776428, 'eval_accuracy': 0.81764, 'eval_runtime': 33.1681, 'eval_samples_per_second': 753.735, 'eval_steps_per_second': 47.124, 'epoch': 5.0}\n",
            "{'loss': 0.3776, 'grad_norm': 1.7701784372329712, 'learning_rate': 0.008602047344849647, 'epoch': 5.1183621241202815}\n",
            "{'loss': 0.3902, 'grad_norm': 0.7953479290008545, 'learning_rate': 0.008202175303902751, 'epoch': 5.438259756877799}\n",
            "{'loss': 0.3853, 'grad_norm': 2.199282169342041, 'learning_rate': 0.007802303262955854, 'epoch': 5.758157389635317}\n",
            "{'eval_loss': 0.41500967741012573, 'eval_accuracy': 0.81, 'eval_runtime': 28.0273, 'eval_samples_per_second': 891.987, 'eval_steps_per_second': 55.767, 'epoch': 6.0}\n",
            "{'loss': 0.3941, 'grad_norm': 1.135377287864685, 'learning_rate': 0.007402431222008957, 'epoch': 6.078055022392834}\n",
            "{'loss': 0.3715, 'grad_norm': 0.35277724266052246, 'learning_rate': 0.00700255918106206, 'epoch': 6.397952655150352}\n",
            "{'loss': 0.3828, 'grad_norm': 0.9847413897514343, 'learning_rate': 0.006602687140115163, 'epoch': 6.717850287907869}\n",
            "{'eval_loss': 0.3806898295879364, 'eval_accuracy': 0.83064, 'eval_runtime': 27.5915, 'eval_samples_per_second': 906.077, 'eval_steps_per_second': 56.648, 'epoch': 7.0}\n",
            "{'loss': 0.3805, 'grad_norm': 1.3292958736419678, 'learning_rate': 0.006202815099168266, 'epoch': 7.037747920665387}\n",
            "{'loss': 0.3649, 'grad_norm': 0.42833760380744934, 'learning_rate': 0.005802943058221368, 'epoch': 7.357645553422905}\n",
            "{'loss': 0.3777, 'grad_norm': 1.1460530757904053, 'learning_rate': 0.005403071017274472, 'epoch': 7.677543186180422}\n",
            "{'loss': 0.3766, 'grad_norm': 2.633244276046753, 'learning_rate': 0.005003198976327576, 'epoch': 7.99744081893794}\n",
            "{'eval_loss': 0.38675975799560547, 'eval_accuracy': 0.82936, 'eval_runtime': 27.356, 'eval_samples_per_second': 913.877, 'eval_steps_per_second': 57.136, 'epoch': 8.0}\n",
            "{'loss': 0.3649, 'grad_norm': 0.7054949402809143, 'learning_rate': 0.004603326935380678, 'epoch': 8.317338451695457}\n",
            "{'loss': 0.3835, 'grad_norm': 0.6498377323150635, 'learning_rate': 0.004203454894433781, 'epoch': 8.637236084452976}\n",
            "{'loss': 0.3691, 'grad_norm': 1.586551308631897, 'learning_rate': 0.0038035828534868843, 'epoch': 8.957133717210493}\n",
            "{'eval_loss': 0.3817967474460602, 'eval_accuracy': 0.83124, 'eval_runtime': 26.156, 'eval_samples_per_second': 955.802, 'eval_steps_per_second': 59.757, 'epoch': 9.0}\n",
            "{'loss': 0.3572, 'grad_norm': 0.4443012475967407, 'learning_rate': 0.003403710812539987, 'epoch': 9.277031349968011}\n",
            "{'loss': 0.3612, 'grad_norm': 1.9217983484268188, 'learning_rate': 0.00300383877159309, 'epoch': 9.596928982725528}\n",
            "{'loss': 0.3752, 'grad_norm': 0.2636418342590332, 'learning_rate': 0.002603966730646193, 'epoch': 9.916826615483046}\n",
            "{'eval_loss': 0.3790414035320282, 'eval_accuracy': 0.83044, 'eval_runtime': 25.5428, 'eval_samples_per_second': 978.749, 'eval_steps_per_second': 61.191, 'epoch': 10.0}\n",
            "{'loss': 0.3766, 'grad_norm': 1.2505161762237549, 'learning_rate': 0.002204094689699296, 'epoch': 10.236724248240563}\n",
            "{'loss': 0.3583, 'grad_norm': 0.8913381099700928, 'learning_rate': 0.001804222648752399, 'epoch': 10.556621880998081}\n",
            "{'loss': 0.3669, 'grad_norm': 2.1191415786743164, 'learning_rate': 0.001404350607805502, 'epoch': 10.876519513755598}\n",
            "{'eval_loss': 0.37766316533088684, 'eval_accuracy': 0.83192, 'eval_runtime': 27.0525, 'eval_samples_per_second': 924.13, 'eval_steps_per_second': 57.777, 'epoch': 11.0}\n",
            "{'loss': 0.3634, 'grad_norm': 0.779909610748291, 'learning_rate': 0.0010044785668586052, 'epoch': 11.196417146513117}\n",
            "{'loss': 0.3617, 'grad_norm': 0.34249529242515564, 'learning_rate': 0.0006046065259117082, 'epoch': 11.516314779270633}\n",
            "{'loss': 0.3562, 'grad_norm': 0.783065915107727, 'learning_rate': 0.00020473448496481124, 'epoch': 11.836212412028152}\n",
            "{'eval_loss': 0.37301644682884216, 'eval_accuracy': 0.83376, 'eval_runtime': 27.4247, 'eval_samples_per_second': 911.586, 'eval_steps_per_second': 56.992, 'epoch': 12.0}\n",
            "{'train_runtime': 859.44, 'train_samples_per_second': 349.065, 'train_steps_per_second': 21.824, 'train_loss': 0.3908924180883211, 'epoch': 12.0}\n",
            "{'loss': 0.5828, 'grad_norm': 1.4056392908096313, 'learning_rate': 0.014600127959053102, 'epoch': 0.3198976327575176}\n",
            "{'loss': 0.4762, 'grad_norm': 0.39815980195999146, 'learning_rate': 0.014200255918106206, 'epoch': 0.6397952655150352}\n",
            "{'loss': 0.4413, 'grad_norm': 0.46383991837501526, 'learning_rate': 0.013800383877159308, 'epoch': 0.9596928982725528}\n",
            "{'eval_loss': 0.4316008687019348, 'eval_accuracy': 0.79976, 'eval_runtime': 27.0634, 'eval_samples_per_second': 923.757, 'eval_steps_per_second': 57.753, 'epoch': 1.0}\n",
            "{'loss': 0.4316, 'grad_norm': 0.185895636677742, 'learning_rate': 0.01340051183621241, 'epoch': 1.2795905310300704}\n",
            "{'loss': 0.4182, 'grad_norm': 0.14597851037979126, 'learning_rate': 0.013000639795265514, 'epoch': 1.599488163787588}\n",
            "{'loss': 0.4249, 'grad_norm': 0.49024471640586853, 'learning_rate': 0.012600767754318617, 'epoch': 1.9193857965451055}\n",
            "{'eval_loss': 0.39174678921699524, 'eval_accuracy': 0.82652, 'eval_runtime': 27.1873, 'eval_samples_per_second': 919.546, 'eval_steps_per_second': 57.49, 'epoch': 2.0}\n",
            "{'loss': 0.4172, 'grad_norm': 0.4836008846759796, 'learning_rate': 0.01220089571337172, 'epoch': 2.239283429302623}\n",
            "{'loss': 0.3936, 'grad_norm': 0.8332573771476746, 'learning_rate': 0.011801023672424825, 'epoch': 2.5591810620601407}\n",
            "{'loss': 0.4119, 'grad_norm': 0.5728720426559448, 'learning_rate': 0.011401151631477927, 'epoch': 2.8790786948176583}\n",
            "{'eval_loss': 0.43509241938591003, 'eval_accuracy': 0.80264, 'eval_runtime': 27.2426, 'eval_samples_per_second': 917.681, 'eval_steps_per_second': 57.373, 'epoch': 3.0}\n",
            "{'loss': 0.3949, 'grad_norm': 0.4360572099685669, 'learning_rate': 0.01100127959053103, 'epoch': 3.198976327575176}\n",
            "{'loss': 0.3995, 'grad_norm': 0.5869727730751038, 'learning_rate': 0.010601407549584134, 'epoch': 3.5188739603326935}\n",
            "{'loss': 0.4335, 'grad_norm': 0.6162924766540527, 'learning_rate': 0.010201535508637236, 'epoch': 3.838771593090211}\n",
            "{'eval_loss': 0.4128005802631378, 'eval_accuracy': 0.82032, 'eval_runtime': 27.3294, 'eval_samples_per_second': 914.766, 'eval_steps_per_second': 57.191, 'epoch': 4.0}\n",
            "{'loss': 0.3859, 'grad_norm': 0.22490878403186798, 'learning_rate': 0.009801663467690338, 'epoch': 4.158669225847729}\n",
            "{'loss': 0.3918, 'grad_norm': 0.7045895457267761, 'learning_rate': 0.009401791426743442, 'epoch': 4.478566858605246}\n",
            "{'loss': 0.3996, 'grad_norm': 0.6604326367378235, 'learning_rate': 0.009001919385796545, 'epoch': 4.798464491362764}\n",
            "{'eval_loss': 0.38609781861305237, 'eval_accuracy': 0.82712, 'eval_runtime': 26.9085, 'eval_samples_per_second': 929.074, 'eval_steps_per_second': 58.086, 'epoch': 5.0}\n",
            "{'loss': 0.376, 'grad_norm': 0.7538741230964661, 'learning_rate': 0.008602047344849647, 'epoch': 5.1183621241202815}\n",
            "{'loss': 0.3845, 'grad_norm': 0.5350815057754517, 'learning_rate': 0.008202175303902751, 'epoch': 5.438259756877799}\n",
            "{'loss': 0.3901, 'grad_norm': 0.7031360268592834, 'learning_rate': 0.007802303262955854, 'epoch': 5.758157389635317}\n",
            "{'eval_loss': 0.4102438688278198, 'eval_accuracy': 0.82112, 'eval_runtime': 27.2104, 'eval_samples_per_second': 918.767, 'eval_steps_per_second': 57.441, 'epoch': 6.0}\n",
            "{'loss': 0.3994, 'grad_norm': 0.6167886853218079, 'learning_rate': 0.007402431222008957, 'epoch': 6.078055022392834}\n",
            "{'loss': 0.3851, 'grad_norm': 0.25217530131340027, 'learning_rate': 0.00700255918106206, 'epoch': 6.397952655150352}\n",
            "{'loss': 0.3843, 'grad_norm': 0.6398594379425049, 'learning_rate': 0.006602687140115163, 'epoch': 6.717850287907869}\n",
            "{'eval_loss': 0.39176198840141296, 'eval_accuracy': 0.82948, 'eval_runtime': 27.1443, 'eval_samples_per_second': 921.004, 'eval_steps_per_second': 57.581, 'epoch': 7.0}\n",
            "{'loss': 0.4147, 'grad_norm': 0.8105171322822571, 'learning_rate': 0.006202815099168266, 'epoch': 7.037747920665387}\n",
            "{'loss': 0.3653, 'grad_norm': 0.38931724429130554, 'learning_rate': 0.005802943058221368, 'epoch': 7.357645553422905}\n",
            "{'loss': 0.3783, 'grad_norm': 0.34397268295288086, 'learning_rate': 0.005403071017274472, 'epoch': 7.677543186180422}\n",
            "{'loss': 0.3775, 'grad_norm': 1.4387503862380981, 'learning_rate': 0.005003198976327576, 'epoch': 7.99744081893794}\n",
            "{'eval_loss': 0.3878055214881897, 'eval_accuracy': 0.83348, 'eval_runtime': 27.6124, 'eval_samples_per_second': 905.39, 'eval_steps_per_second': 56.605, 'epoch': 8.0}\n",
            "{'loss': 0.3616, 'grad_norm': 0.32313042879104614, 'learning_rate': 0.004603326935380678, 'epoch': 8.317338451695457}\n",
            "{'loss': 0.3809, 'grad_norm': 0.37686455249786377, 'learning_rate': 0.004203454894433781, 'epoch': 8.637236084452976}\n",
            "{'loss': 0.3674, 'grad_norm': 0.5414602160453796, 'learning_rate': 0.0038035828534868843, 'epoch': 8.957133717210493}\n",
            "{'eval_loss': 0.3804510533809662, 'eval_accuracy': 0.83432, 'eval_runtime': 27.5763, 'eval_samples_per_second': 906.575, 'eval_steps_per_second': 56.679, 'epoch': 9.0}\n",
            "{'loss': 0.3534, 'grad_norm': 0.5321366190910339, 'learning_rate': 0.003403710812539987, 'epoch': 9.277031349968011}\n",
            "{'loss': 0.36, 'grad_norm': 0.847065269947052, 'learning_rate': 0.00300383877159309, 'epoch': 9.596928982725528}\n",
            "{'loss': 0.3729, 'grad_norm': 0.30513593554496765, 'learning_rate': 0.002603966730646193, 'epoch': 9.916826615483046}\n",
            "{'eval_loss': 0.37815847992897034, 'eval_accuracy': 0.83068, 'eval_runtime': 27.3078, 'eval_samples_per_second': 915.49, 'eval_steps_per_second': 57.236, 'epoch': 10.0}\n",
            "{'loss': 0.3741, 'grad_norm': 0.5136555433273315, 'learning_rate': 0.002204094689699296, 'epoch': 10.236724248240563}\n",
            "{'loss': 0.3547, 'grad_norm': 0.44760414958000183, 'learning_rate': 0.001804222648752399, 'epoch': 10.556621880998081}\n",
            "{'loss': 0.3608, 'grad_norm': 1.177588939666748, 'learning_rate': 0.001404350607805502, 'epoch': 10.876519513755598}\n",
            "{'eval_loss': 0.3738962411880493, 'eval_accuracy': 0.83588, 'eval_runtime': 27.9429, 'eval_samples_per_second': 894.683, 'eval_steps_per_second': 55.936, 'epoch': 11.0}\n",
            "{'loss': 0.3597, 'grad_norm': 0.3981201648712158, 'learning_rate': 0.0010044785668586052, 'epoch': 11.196417146513117}\n",
            "{'loss': 0.3561, 'grad_norm': 0.20668813586235046, 'learning_rate': 0.0006046065259117082, 'epoch': 11.516314779270633}\n",
            "{'loss': 0.3473, 'grad_norm': 0.47064489126205444, 'learning_rate': 0.00020473448496481124, 'epoch': 11.836212412028152}\n",
            "{'eval_loss': 0.37089258432388306, 'eval_accuracy': 0.8366, 'eval_runtime': 27.5401, 'eval_samples_per_second': 907.766, 'eval_steps_per_second': 56.754, 'epoch': 12.0}\n",
            "{'train_runtime': 857.311, 'train_samples_per_second': 349.931, 'train_steps_per_second': 21.878, 'train_loss': 0.39420328691433326, 'epoch': 12.0}\n",
            "{'loss': 0.6967, 'grad_norm': 0.20344218611717224, 'learning_rate': 0.014600127959053102, 'epoch': 0.3198976327575176}\n",
            "{'loss': 0.6967, 'grad_norm': 0.04141481593251228, 'learning_rate': 0.014200255918106206, 'epoch': 0.6397952655150352}\n",
            "{'loss': 0.7002, 'grad_norm': 0.788836658000946, 'learning_rate': 0.013800383877159308, 'epoch': 0.9596928982725528}\n",
            "{'eval_loss': 0.6984435319900513, 'eval_accuracy': 0.5, 'eval_runtime': 26.4078, 'eval_samples_per_second': 946.692, 'eval_steps_per_second': 59.187, 'epoch': 1.0}\n",
            "{'loss': 0.7, 'grad_norm': 0.1498170793056488, 'learning_rate': 0.01340051183621241, 'epoch': 1.2795905310300704}\n",
            "{'loss': 0.7029, 'grad_norm': 0.3569243848323822, 'learning_rate': 0.013000639795265514, 'epoch': 1.599488163787588}\n",
            "{'loss': 0.6993, 'grad_norm': 0.4293901324272156, 'learning_rate': 0.012600767754318617, 'epoch': 1.9193857965451055}\n",
            "{'eval_loss': 0.7751857042312622, 'eval_accuracy': 0.5, 'eval_runtime': 27.1892, 'eval_samples_per_second': 919.483, 'eval_steps_per_second': 57.486, 'epoch': 2.0}\n",
            "{'loss': 0.7084, 'grad_norm': 0.24590976536273956, 'learning_rate': 0.01220089571337172, 'epoch': 2.239283429302623}\n",
            "{'loss': 0.7036, 'grad_norm': 0.05447490140795708, 'learning_rate': 0.011801023672424825, 'epoch': 2.5591810620601407}\n",
            "{'loss': 0.576, 'grad_norm': 1.8430054187774658, 'learning_rate': 0.011401151631477927, 'epoch': 2.8790786948176583}\n",
            "{'eval_loss': 0.4828939735889435, 'eval_accuracy': 0.78372, 'eval_runtime': 29.9696, 'eval_samples_per_second': 834.18, 'eval_steps_per_second': 52.153, 'epoch': 3.0}\n",
            "{'loss': 0.4648, 'grad_norm': 1.0609794855117798, 'learning_rate': 0.01100127959053103, 'epoch': 3.198976327575176}\n",
            "{'loss': 0.4342, 'grad_norm': 0.9292823076248169, 'learning_rate': 0.010601407549584134, 'epoch': 3.5188739603326935}\n",
            "{'loss': 0.4342, 'grad_norm': 1.1671208143234253, 'learning_rate': 0.010201535508637236, 'epoch': 3.838771593090211}\n",
            "{'eval_loss': 0.4190891683101654, 'eval_accuracy': 0.81344, 'eval_runtime': 28.1542, 'eval_samples_per_second': 887.968, 'eval_steps_per_second': 55.516, 'epoch': 4.0}\n",
            "{'loss': 0.41, 'grad_norm': 0.2955944836139679, 'learning_rate': 0.009801663467690338, 'epoch': 4.158669225847729}\n",
            "{'loss': 0.4056, 'grad_norm': 0.7222070693969727, 'learning_rate': 0.009401791426743442, 'epoch': 4.478566858605246}\n",
            "{'loss': 0.4132, 'grad_norm': 0.6446285247802734, 'learning_rate': 0.009001919385796545, 'epoch': 4.798464491362764}\n",
            "{'eval_loss': 0.3986499607563019, 'eval_accuracy': 0.81836, 'eval_runtime': 27.8057, 'eval_samples_per_second': 899.096, 'eval_steps_per_second': 56.211, 'epoch': 5.0}\n",
            "{'loss': 0.3907, 'grad_norm': 1.183786153793335, 'learning_rate': 0.008602047344849647, 'epoch': 5.1183621241202815}\n",
            "{'loss': 0.3957, 'grad_norm': 0.25516483187675476, 'learning_rate': 0.008202175303902751, 'epoch': 5.438259756877799}\n",
            "{'loss': 0.3987, 'grad_norm': 0.917696475982666, 'learning_rate': 0.007802303262955854, 'epoch': 5.758157389635317}\n",
            "{'eval_loss': 0.39950039982795715, 'eval_accuracy': 0.82308, 'eval_runtime': 28.1479, 'eval_samples_per_second': 888.165, 'eval_steps_per_second': 55.528, 'epoch': 6.0}\n",
            "{'loss': 0.4069, 'grad_norm': 0.48224523663520813, 'learning_rate': 0.007402431222008957, 'epoch': 6.078055022392834}\n",
            "{'loss': 0.3825, 'grad_norm': 0.20979149639606476, 'learning_rate': 0.00700255918106206, 'epoch': 6.397952655150352}\n",
            "{'loss': 0.3922, 'grad_norm': 0.6685202717781067, 'learning_rate': 0.006602687140115163, 'epoch': 6.717850287907869}\n",
            "{'eval_loss': 0.38792213797569275, 'eval_accuracy': 0.8286, 'eval_runtime': 27.5195, 'eval_samples_per_second': 908.446, 'eval_steps_per_second': 56.796, 'epoch': 7.0}\n",
            "{'loss': 0.3914, 'grad_norm': 0.33581483364105225, 'learning_rate': 0.006202815099168266, 'epoch': 7.037747920665387}\n",
            "{'loss': 0.3746, 'grad_norm': 0.25892147421836853, 'learning_rate': 0.005802943058221368, 'epoch': 7.357645553422905}\n",
            "{'loss': 0.3927, 'grad_norm': 0.6004496812820435, 'learning_rate': 0.005403071017274472, 'epoch': 7.677543186180422}\n",
            "{'loss': 0.385, 'grad_norm': 1.1795576810836792, 'learning_rate': 0.005003198976327576, 'epoch': 7.99744081893794}\n",
            "{'eval_loss': 0.40857312083244324, 'eval_accuracy': 0.82568, 'eval_runtime': 28.2333, 'eval_samples_per_second': 885.48, 'eval_steps_per_second': 55.36, 'epoch': 8.0}\n",
            "{'loss': 0.3739, 'grad_norm': 0.31463754177093506, 'learning_rate': 0.004603326935380678, 'epoch': 8.317338451695457}\n",
            "{'loss': 0.3762, 'grad_norm': 0.6253715753555298, 'learning_rate': 0.0038035828534868843, 'epoch': 8.957133717210493}\n",
            "{'eval_loss': 0.38475823402404785, 'eval_accuracy': 0.8306, 'eval_runtime': 27.9353, 'eval_samples_per_second': 894.926, 'eval_steps_per_second': 55.951, 'epoch': 9.0}\n",
            "{'loss': 0.3636, 'grad_norm': 0.355863481760025, 'learning_rate': 0.003403710812539987, 'epoch': 9.277031349968011}\n",
            "{'loss': 0.3684, 'grad_norm': 1.1981171369552612, 'learning_rate': 0.00300383877159309, 'epoch': 9.596928982725528}\n",
            "{'loss': 0.3822, 'grad_norm': 0.16306351125240326, 'learning_rate': 0.002603966730646193, 'epoch': 9.916826615483046}\n",
            "{'eval_loss': 0.37969085574150085, 'eval_accuracy': 0.83072, 'eval_runtime': 26.7172, 'eval_samples_per_second': 935.726, 'eval_steps_per_second': 58.502, 'epoch': 10.0}\n",
            "{'loss': 0.3829, 'grad_norm': 0.8211625218391418, 'learning_rate': 0.002204094689699296, 'epoch': 10.236724248240563}\n",
            "{'loss': 0.3642, 'grad_norm': 0.49230796098709106, 'learning_rate': 0.001804222648752399, 'epoch': 10.556621880998081}\n",
            "{'loss': 0.3687, 'grad_norm': 1.18511164188385, 'learning_rate': 0.001404350607805502, 'epoch': 10.876519513755598}\n",
            "{'eval_loss': 0.37830880284309387, 'eval_accuracy': 0.83204, 'eval_runtime': 26.4528, 'eval_samples_per_second': 945.078, 'eval_steps_per_second': 59.086, 'epoch': 11.0}\n",
            "{'loss': 0.3674, 'grad_norm': 0.5768032670021057, 'learning_rate': 0.0010044785668586052, 'epoch': 11.196417146513117}\n",
            "{'loss': 0.3663, 'grad_norm': 0.19610010087490082, 'learning_rate': 0.0006046065259117082, 'epoch': 11.516314779270633}\n",
            "{'loss': 0.36, 'grad_norm': 0.19888892769813538, 'learning_rate': 0.00020473448496481124, 'epoch': 11.836212412028152}\n",
            "{'eval_loss': 0.377494215965271, 'eval_accuracy': 0.83208, 'eval_runtime': 27.0456, 'eval_samples_per_second': 924.364, 'eval_steps_per_second': 57.791, 'epoch': 12.0}\n",
            "{'train_runtime': 862.8894, 'train_samples_per_second': 347.669, 'train_steps_per_second': 21.736, 'train_loss': 0.4613859709912359, 'epoch': 12.0}\n"
          ]
        },
        {
          "output_type": "error",
          "ename": "ConversionError",
          "evalue": "Failed to convert value(s) to axis units: ['ReLU', 'Tanh', 'Sigmoid']",
          "traceback": [
            "\u001b[0;31m---------------------------------------------------------------------------\u001b[0m",
            "\u001b[0;31mValueError\u001b[0m                                Traceback (most recent call last)",
            "\u001b[0;32m/usr/local/lib/python3.10/dist-packages/matplotlib/axis.py\u001b[0m in \u001b[0;36mconvert_units\u001b[0;34m(self, x)\u001b[0m\n\u001b[1;32m   1731\u001b[0m         \u001b[0;32mtry\u001b[0m\u001b[0;34m:\u001b[0m\u001b[0;34m\u001b[0m\u001b[0;34m\u001b[0m\u001b[0m\n\u001b[0;32m-> 1732\u001b[0;31m             \u001b[0mret\u001b[0m \u001b[0;34m=\u001b[0m \u001b[0mself\u001b[0m\u001b[0;34m.\u001b[0m\u001b[0mconverter\u001b[0m\u001b[0;34m.\u001b[0m\u001b[0mconvert\u001b[0m\u001b[0;34m(\u001b[0m\u001b[0mx\u001b[0m\u001b[0;34m,\u001b[0m \u001b[0mself\u001b[0m\u001b[0;34m.\u001b[0m\u001b[0munits\u001b[0m\u001b[0;34m,\u001b[0m \u001b[0mself\u001b[0m\u001b[0;34m)\u001b[0m\u001b[0;34m\u001b[0m\u001b[0;34m\u001b[0m\u001b[0m\n\u001b[0m\u001b[1;32m   1733\u001b[0m         \u001b[0;32mexcept\u001b[0m \u001b[0mException\u001b[0m \u001b[0;32mas\u001b[0m \u001b[0me\u001b[0m\u001b[0;34m:\u001b[0m\u001b[0;34m\u001b[0m\u001b[0;34m\u001b[0m\u001b[0m\n",
            "\u001b[0;32m/usr/local/lib/python3.10/dist-packages/matplotlib/category.py\u001b[0m in \u001b[0;36mconvert\u001b[0;34m(value, unit, axis)\u001b[0m\n\u001b[1;32m     48\u001b[0m         \u001b[0;32mif\u001b[0m \u001b[0munit\u001b[0m \u001b[0;32mis\u001b[0m \u001b[0;32mNone\u001b[0m\u001b[0;34m:\u001b[0m\u001b[0;34m\u001b[0m\u001b[0;34m\u001b[0m\u001b[0m\n\u001b[0;32m---> 49\u001b[0;31m             raise ValueError(\n\u001b[0m\u001b[1;32m     50\u001b[0m                 \u001b[0;34m'Missing category information for StrCategoryConverter; '\u001b[0m\u001b[0;34m\u001b[0m\u001b[0;34m\u001b[0m\u001b[0m\n",
            "\u001b[0;31mValueError\u001b[0m: Missing category information for StrCategoryConverter; this might be caused by unintendedly mixing categorical and numeric data",
            "\nThe above exception was the direct cause of the following exception:\n",
            "\u001b[0;31mConversionError\u001b[0m                           Traceback (most recent call last)",
            "\u001b[0;32m<ipython-input-25-74fda39193ac>\u001b[0m in \u001b[0;36m<cell line: 80>\u001b[0;34m()\u001b[0m\n\u001b[1;32m     78\u001b[0m \u001b[0mplt\u001b[0m\u001b[0;34m.\u001b[0m\u001b[0mylabel\u001b[0m\u001b[0;34m(\u001b[0m\u001b[0;34m'Accuracy'\u001b[0m\u001b[0;34m)\u001b[0m\u001b[0;34m\u001b[0m\u001b[0;34m\u001b[0m\u001b[0m\n\u001b[1;32m     79\u001b[0m \u001b[0mplt\u001b[0m\u001b[0;34m.\u001b[0m\u001b[0mtitle\u001b[0m\u001b[0;34m(\u001b[0m\u001b[0;34m'Accuracy per epoch over differenc activation funcs'\u001b[0m\u001b[0;34m)\u001b[0m\u001b[0;34m\u001b[0m\u001b[0;34m\u001b[0m\u001b[0m\n\u001b[0;32m---> 80\u001b[0;31m \u001b[0mplt\u001b[0m\u001b[0;34m.\u001b[0m\u001b[0mxticks\u001b[0m\u001b[0;34m(\u001b[0m\u001b[0mactivation_names\u001b[0m\u001b[0;34m)\u001b[0m\u001b[0;34m\u001b[0m\u001b[0;34m\u001b[0m\u001b[0m\n\u001b[0m\u001b[1;32m     81\u001b[0m \u001b[0mplt\u001b[0m\u001b[0;34m.\u001b[0m\u001b[0mgrid\u001b[0m\u001b[0;34m(\u001b[0m\u001b[0;32mTrue\u001b[0m\u001b[0;34m)\u001b[0m\u001b[0;34m\u001b[0m\u001b[0;34m\u001b[0m\u001b[0m\n\u001b[1;32m     82\u001b[0m \u001b[0mplt\u001b[0m\u001b[0;34m.\u001b[0m\u001b[0mlegend\u001b[0m\u001b[0;34m(\u001b[0m\u001b[0;34m)\u001b[0m\u001b[0;34m\u001b[0m\u001b[0;34m\u001b[0m\u001b[0m\n",
            "\u001b[0;32m/usr/local/lib/python3.10/dist-packages/matplotlib/pyplot.py\u001b[0m in \u001b[0;36mxticks\u001b[0;34m(ticks, labels, minor, **kwargs)\u001b[0m\n\u001b[1;32m   1884\u001b[0m                             \"without setting 'ticks'\")\n\u001b[1;32m   1885\u001b[0m     \u001b[0;32melse\u001b[0m\u001b[0;34m:\u001b[0m\u001b[0;34m\u001b[0m\u001b[0;34m\u001b[0m\u001b[0m\n\u001b[0;32m-> 1886\u001b[0;31m         \u001b[0mlocs\u001b[0m \u001b[0;34m=\u001b[0m \u001b[0max\u001b[0m\u001b[0;34m.\u001b[0m\u001b[0mset_xticks\u001b[0m\u001b[0;34m(\u001b[0m\u001b[0mticks\u001b[0m\u001b[0;34m,\u001b[0m \u001b[0mminor\u001b[0m\u001b[0;34m=\u001b[0m\u001b[0mminor\u001b[0m\u001b[0;34m)\u001b[0m\u001b[0;34m\u001b[0m\u001b[0;34m\u001b[0m\u001b[0m\n\u001b[0m\u001b[1;32m   1887\u001b[0m \u001b[0;34m\u001b[0m\u001b[0m\n\u001b[1;32m   1888\u001b[0m     \u001b[0;32mif\u001b[0m \u001b[0mlabels\u001b[0m \u001b[0;32mis\u001b[0m \u001b[0;32mNone\u001b[0m\u001b[0;34m:\u001b[0m\u001b[0;34m\u001b[0m\u001b[0;34m\u001b[0m\u001b[0m\n",
            "\u001b[0;32m/usr/local/lib/python3.10/dist-packages/matplotlib/axes/_base.py\u001b[0m in \u001b[0;36mwrapper\u001b[0;34m(self, *args, **kwargs)\u001b[0m\n\u001b[1;32m     72\u001b[0m \u001b[0;34m\u001b[0m\u001b[0m\n\u001b[1;32m     73\u001b[0m         \u001b[0;32mdef\u001b[0m \u001b[0mwrapper\u001b[0m\u001b[0;34m(\u001b[0m\u001b[0mself\u001b[0m\u001b[0;34m,\u001b[0m \u001b[0;34m*\u001b[0m\u001b[0margs\u001b[0m\u001b[0;34m,\u001b[0m \u001b[0;34m**\u001b[0m\u001b[0mkwargs\u001b[0m\u001b[0;34m)\u001b[0m\u001b[0;34m:\u001b[0m\u001b[0;34m\u001b[0m\u001b[0;34m\u001b[0m\u001b[0m\n\u001b[0;32m---> 74\u001b[0;31m             \u001b[0;32mreturn\u001b[0m \u001b[0mget_method\u001b[0m\u001b[0;34m(\u001b[0m\u001b[0mself\u001b[0m\u001b[0;34m)\u001b[0m\u001b[0;34m(\u001b[0m\u001b[0;34m*\u001b[0m\u001b[0margs\u001b[0m\u001b[0;34m,\u001b[0m \u001b[0;34m**\u001b[0m\u001b[0mkwargs\u001b[0m\u001b[0;34m)\u001b[0m\u001b[0;34m\u001b[0m\u001b[0;34m\u001b[0m\u001b[0m\n\u001b[0m\u001b[1;32m     75\u001b[0m \u001b[0;34m\u001b[0m\u001b[0m\n\u001b[1;32m     76\u001b[0m         \u001b[0mwrapper\u001b[0m\u001b[0;34m.\u001b[0m\u001b[0m__module__\u001b[0m \u001b[0;34m=\u001b[0m \u001b[0mowner\u001b[0m\u001b[0;34m.\u001b[0m\u001b[0m__module__\u001b[0m\u001b[0;34m\u001b[0m\u001b[0;34m\u001b[0m\u001b[0m\n",
            "\u001b[0;32m/usr/local/lib/python3.10/dist-packages/matplotlib/axis.py\u001b[0m in \u001b[0;36mset_ticks\u001b[0;34m(self, ticks, labels, minor, **kwargs)\u001b[0m\n\u001b[1;32m   2072\u001b[0m             raise ValueError('labels argument cannot be None when '\n\u001b[1;32m   2073\u001b[0m                              'kwargs are passed')\n\u001b[0;32m-> 2074\u001b[0;31m         \u001b[0mresult\u001b[0m \u001b[0;34m=\u001b[0m \u001b[0mself\u001b[0m\u001b[0;34m.\u001b[0m\u001b[0m_set_tick_locations\u001b[0m\u001b[0;34m(\u001b[0m\u001b[0mticks\u001b[0m\u001b[0;34m,\u001b[0m \u001b[0mminor\u001b[0m\u001b[0;34m=\u001b[0m\u001b[0mminor\u001b[0m\u001b[0;34m)\u001b[0m\u001b[0;34m\u001b[0m\u001b[0;34m\u001b[0m\u001b[0m\n\u001b[0m\u001b[1;32m   2075\u001b[0m         \u001b[0;32mif\u001b[0m \u001b[0mlabels\u001b[0m \u001b[0;32mis\u001b[0m \u001b[0;32mnot\u001b[0m \u001b[0;32mNone\u001b[0m\u001b[0;34m:\u001b[0m\u001b[0;34m\u001b[0m\u001b[0;34m\u001b[0m\u001b[0m\n\u001b[1;32m   2076\u001b[0m             \u001b[0mself\u001b[0m\u001b[0;34m.\u001b[0m\u001b[0mset_ticklabels\u001b[0m\u001b[0;34m(\u001b[0m\u001b[0mlabels\u001b[0m\u001b[0;34m,\u001b[0m \u001b[0mminor\u001b[0m\u001b[0;34m=\u001b[0m\u001b[0mminor\u001b[0m\u001b[0;34m,\u001b[0m \u001b[0;34m**\u001b[0m\u001b[0mkwargs\u001b[0m\u001b[0;34m)\u001b[0m\u001b[0;34m\u001b[0m\u001b[0;34m\u001b[0m\u001b[0m\n",
            "\u001b[0;32m/usr/local/lib/python3.10/dist-packages/matplotlib/axis.py\u001b[0m in \u001b[0;36m_set_tick_locations\u001b[0;34m(self, ticks, minor)\u001b[0m\n\u001b[1;32m   2012\u001b[0m \u001b[0;34m\u001b[0m\u001b[0m\n\u001b[1;32m   2013\u001b[0m         \u001b[0;31m# XXX if the user changes units, the information will be lost here\u001b[0m\u001b[0;34m\u001b[0m\u001b[0;34m\u001b[0m\u001b[0m\n\u001b[0;32m-> 2014\u001b[0;31m         \u001b[0mticks\u001b[0m \u001b[0;34m=\u001b[0m \u001b[0mself\u001b[0m\u001b[0;34m.\u001b[0m\u001b[0mconvert_units\u001b[0m\u001b[0;34m(\u001b[0m\u001b[0mticks\u001b[0m\u001b[0;34m)\u001b[0m\u001b[0;34m\u001b[0m\u001b[0;34m\u001b[0m\u001b[0m\n\u001b[0m\u001b[1;32m   2015\u001b[0m         \u001b[0mlocator\u001b[0m \u001b[0;34m=\u001b[0m \u001b[0mmticker\u001b[0m\u001b[0;34m.\u001b[0m\u001b[0mFixedLocator\u001b[0m\u001b[0;34m(\u001b[0m\u001b[0mticks\u001b[0m\u001b[0;34m)\u001b[0m  \u001b[0;31m# validate ticks early.\u001b[0m\u001b[0;34m\u001b[0m\u001b[0;34m\u001b[0m\u001b[0m\n\u001b[1;32m   2016\u001b[0m         \u001b[0;32mfor\u001b[0m \u001b[0mname\u001b[0m\u001b[0;34m,\u001b[0m \u001b[0maxis\u001b[0m \u001b[0;32min\u001b[0m \u001b[0mself\u001b[0m\u001b[0;34m.\u001b[0m\u001b[0maxes\u001b[0m\u001b[0;34m.\u001b[0m\u001b[0m_axis_map\u001b[0m\u001b[0;34m.\u001b[0m\u001b[0mitems\u001b[0m\u001b[0;34m(\u001b[0m\u001b[0;34m)\u001b[0m\u001b[0;34m:\u001b[0m\u001b[0;34m\u001b[0m\u001b[0;34m\u001b[0m\u001b[0m\n",
            "\u001b[0;32m/usr/local/lib/python3.10/dist-packages/matplotlib/axis.py\u001b[0m in \u001b[0;36mconvert_units\u001b[0;34m(self, x)\u001b[0m\n\u001b[1;32m   1732\u001b[0m             \u001b[0mret\u001b[0m \u001b[0;34m=\u001b[0m \u001b[0mself\u001b[0m\u001b[0;34m.\u001b[0m\u001b[0mconverter\u001b[0m\u001b[0;34m.\u001b[0m\u001b[0mconvert\u001b[0m\u001b[0;34m(\u001b[0m\u001b[0mx\u001b[0m\u001b[0;34m,\u001b[0m \u001b[0mself\u001b[0m\u001b[0;34m.\u001b[0m\u001b[0munits\u001b[0m\u001b[0;34m,\u001b[0m \u001b[0mself\u001b[0m\u001b[0;34m)\u001b[0m\u001b[0;34m\u001b[0m\u001b[0;34m\u001b[0m\u001b[0m\n\u001b[1;32m   1733\u001b[0m         \u001b[0;32mexcept\u001b[0m \u001b[0mException\u001b[0m \u001b[0;32mas\u001b[0m \u001b[0me\u001b[0m\u001b[0;34m:\u001b[0m\u001b[0;34m\u001b[0m\u001b[0;34m\u001b[0m\u001b[0m\n\u001b[0;32m-> 1734\u001b[0;31m             raise munits.ConversionError('Failed to convert value(s) to axis '\n\u001b[0m\u001b[1;32m   1735\u001b[0m                                          f'units: {x!r}') from e\n\u001b[1;32m   1736\u001b[0m         \u001b[0;32mreturn\u001b[0m \u001b[0mret\u001b[0m\u001b[0;34m\u001b[0m\u001b[0;34m\u001b[0m\u001b[0m\n",
            "\u001b[0;31mConversionError\u001b[0m: Failed to convert value(s) to axis units: ['ReLU', 'Tanh', 'Sigmoid']"
          ]
        },
        {
          "output_type": "display_data",
          "data": {
            "text/plain": [
              "<Figure size 800x600 with 1 Axes>"
            ],
            "image/png": "[encoded data removed]"
          },
          "metadata": {}
        }
      ]
    },
    {
      "cell_type": "code",
      "source": [
        "\n",
        "# Plotting the best accuracies\n",
        "import matplotlib.pyplot as plt\n",
        "\n",
        "plt.figure(figsize=(8, 6))\n",
        "epochs = [1,2,3,4,5,6,7,8,9,10,11,12]\n",
        "\n",
        "for i in range(len(accuracies)):\n",
        "  acc = accuracies[i]\n",
        "  plt.plot(epochs, acc, marker='o', linestyle='-', label=activation_names[i])\n",
        "\n",
        "plt.xlabel('Epoch')\n",
        "plt.ylabel('Accuracy')\n",
        "plt.title('Accuracy per epoch over differenc activation funcs')\n",
        "plt.grid(True)\n",
        "plt.legend()\n",
        "plt.tight_layout()\n",
        "\n",
        "# Save the plot as 'best_accuracy_activations.png'\n",
        "plt.savefig('best_accuracy_activations.png')\n",
        "plt.show()\n"
      ],
      "metadata": {
        "id": "nWof8gSb_atV",
        "outputId": "4e38e111-a7ec-4e28-a9fa-25b5b7637896",
        "colab": {
          "base_uri": "https://localhost:8080/",
          "height": 607
        }
      },
      "execution_count": 26,
      "outputs": [
        {
          "output_type": "display_data",
          "data": {
            "text/plain": [
              "<Figure size 800x600 with 1 Axes>"
            ],
            "image/png": "[encoded data removed]"
          },
          "metadata": {}
        }
      ]
    },
    {
      "cell_type": "code",
      "source": [
        "import random\n",
        "import numpy as np\n",
        "\n",
        "# Assuming models[1] and its corresponding trainer are already defined and trained\n",
        "model = models[1]\n",
        "trainer = trainers[1][0]  # trainers[1] contains (trainer, accuracy_callback), so we take the trainer\n",
        "\n",
        "# Get predictions on the evaluation set\n",
        "predictions = trainer.predict(small_eval_dataset)\n",
        "\n",
        "# Get logits and true labels\n",
        "logits = predictions.predictions\n",
        "true_labels = predictions.label_ids\n",
        "\n",
        "# Convert logits to predicted labels\n",
        "predicted_labels = np.argmax(logits, axis=1)\n",
        "\n",
        "# Identify incorrect predictions\n",
        "incorrect_indices = np.where(predicted_labels != true_labels)[0]\n",
        "\n",
        "# Sample 5 incorrect predictions\n",
        "sampled_indices = random.sample(list(incorrect_indices.astype(int)), 5)\n",
        "\n",
        "# Retrieve the corresponding samples, move i to int because it its np.int which is not int\n",
        "incorrect_samples = [(small_eval_dataset[int(i)], predicted_labels[int(i)], true_labels[int(i)]) for i in sampled_indices]\n",
        "\n",
        "for i in range(len(incorrect_samples)):\n",
        "  print(incorrect_samples[i][0]['text'])\n",
        "  print(\"predicted: \",True if incorrect_samples[i][1] == 1 else False)\n",
        "  print(\"true labels: \", True if incorrect_samples[i][2] ==1 else False)\n"
      ],
      "metadata": {
        "id": "tgfhYLCq2TSr",
        "outputId": "f753181b-9c8d-4f26-a041-40c9abe91022",
        "colab": {
          "base_uri": "https://localhost:8080/"
        }
      },
      "execution_count": 34,
      "outputs": [
        {
          "output_type": "stream",
          "name": "stdout",
          "text": [
            "One should have the right to expect from people who make a film about the Second Coming and the Third Testament, that they had read the other two, or at least knew a little more about them than miracles and Judgement Day. This film contains absolutely nothing of relevance for viewers who are interested in Jesus, religion or philosophy -- there is only the standard British social realism with guttural dialects and plump characters in pubs.<br /><br />Actually, good candidates for a real Third Testament have been published several times - like \"A Course in Miracles\" or \"Conversations with God\". They all have thought-provoking new twists and angles for Christian faith and theology.<br /><br />The most interesting information in IMDb's rating is not the number of stars, but how many people who have bothered to vote. In four years, only 387 people have bothered to vote for this film. As usual, the enthusiasts are the most eager. For comparison, have a look at \"Jesus Christ, Superstar\" - original version from 1973.\n",
            "predicted:  True\n",
            "true labels:  False\n",
            "Jackie Chan movies are typical examples of how offer is bigger than demand.Well,to be honest,which demand?In this one Jackie Chan is whatever his name is in this one,I doubt if he even knows,and he is some kind of race car driver.Well,he drives 10 miles an hour and then the footage is sped up,that way I can do all the stunts myself as well.During the great finale,in which Jackie Chan wants to arrest the bad guy by beating him in a race,we finally get to see how shoddy this production really is.Chan's fighting,especially in the casino scene is decent,but when we're talking about special effects,dear Lord.And must everyone crash in this race?That's just stupid.And here it's really not safe for the drivers,there's not even a concrete wall in the neighborhood.And don't get me started on what kind of awful story this has,I mean,it's Hongkong,it was probably written at gun point by eight-year-olds,but still,what a mess.I like Chan as much as the next guy,perhaps more since I saw \"Rush Hour\",but his agent's retarded cousin really needs to pick his projects better.\n",
            "predicted:  True\n",
            "true labels:  False\n",
            "Not too bad entry in the series, heavily ladled with war propaganda, but Rathbone & Bruce's sincerity keep me happy.<br /><br />It's a rather fantastic story from start to finish, just how many McGuffin's are there? Holmes (and Moriarty independently) reeling out the Dancing Men code uncoded so fast was Amazing Watson - so why weren't you amazed! The post explaining the bomb-sight/enlarger tickled me, it was just the kind of cheap trick Universal would play - once again reminding me that they didn't expect people to be critically watching this over 60 years later. This (and I think every other potboiler from Universal at this period) were meant to be viewed the once or twice and forgotten. They perhaps should have realised that basically people don't change, that what was entertaining to ordinary people in 1942 would still entertain a select group now (2005) and tightened up on the script and sets!<br /><br />Lionel Atwill was going through his Hollywood rape court case at about this time, I wonder if it was that or particularly effective make-up that made him look so haggard as Moriarty?<br /><br />The important thing about SW though is that this was the first Holmes film Roy William Neill directed, I think he directed all of the rest and produced all but one, thus establishing a marvellous ambient continuity.\n",
            "predicted:  False\n",
            "true labels:  True\n",
            "R.I.C.C.O. is the STUPIDEST film ever made. I can't believe my father bought this crap. This film should da never got made. If this film was wide known, trust me it will be on the #1 spot for IMDB's worst.The acting is horrible it's scary,which it is why it's horror. This piece of s*** had no horror in at at all. It's an urban action,which is funny, because I could of swore it was a comedy. When people got shot I couldn't help but laugh. I am the only person who reviewed this and I hope that I am the last. With this vote only I hope it make it to the #1 spot at the worst!!!!!!!\n",
            "predicted:  True\n",
            "true labels:  False\n",
            "To the eight people who found the previous FIERCE PEOPLE comments by \"Psycolicious Me\" and \"Topdany\" \"helpful,\" as well as to any future site visitors who see them before their authors delete them: these negative critique's are not only shorter than the site guidelines mandate, but they are entirely bogus, nonfactual, incorrect, and misinformative. For instance, Blythe's dad is in a coma, NOT dead--Maya and Finn even visit him in the hospital. Furthermore, it was estate deer poacher Dwayne--NOT Blythe--who knocked up Jilly the maid, etc., etc. So if you have ADD which makes you incapable of focusing on the simplest details, please keep your condition to yourself by not pretending to be Siskel or Ebert. Otherwise, include a disclaimer with your comments!\n",
            "predicted:  False\n",
            "true labels:  True\n"
          ]
        }
      ]
    }
  ]
}