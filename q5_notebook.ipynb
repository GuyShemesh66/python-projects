{
  "cells": [
    {
      "cell_type": "code",
      "execution_count": null,
      "metadata": {
        "colab": {
          "base_uri": "https://localhost:8080/"
        },
        "id": "Oia4BHNusf3z",
        "outputId": "99504290-8525-48db-8fc4-a0eb691dde8a"
      },
      "outputs": [],
      "source": [
        "pip install datasets "
      ]
    },
    {
      "cell_type": "code",
      "execution_count": null,
      "metadata": {},
      "outputs": [],
      "source": [
        "pip install transformers"
      ]
    },
    {
      "cell_type": "code",
      "execution_count": null,
      "metadata": {},
      "outputs": [],
      "source": [
        "pip install sentencepiece\n"
      ]
    },
    {
      "cell_type": "markdown",
      "metadata": {},
      "source": [
        "Q5.2"
      ]
    },
    {
      "cell_type": "code",
      "execution_count": null,
      "metadata": {
        "colab": {
          "base_uri": "https://localhost:8080/"
        },
        "id": "fFQUUYrcpfIi",
        "outputId": "3ccf46f1-fe74-46b4-fb4a-7269ea63f59f"
      },
      "outputs": [],
      "source": [
        "from transformers import T5ForConditionalGeneration, T5Tokenizer\n",
        "\n",
        "model = T5ForConditionalGeneration.from_pretrained('michelecafagna26/t5-base-finetuned-sst2-sentiment')\n",
        "tokenizer = T5Tokenizer.from_pretrained('michelecafagna26/t5-base-finetuned-sst2-sentiment')\n",
        "\n",
        "def get_sentiment(sentence):\n",
        "   inputs = tokenizer.encode(f\"sentiment: {sentence}\", max_length=512, truncation=True, return_tensors=\"pt\")\n",
        "   outputs = model.generate(inputs,max_new_tokens=10)\n",
        "   res = tokenizer.decode(outputs[0], skip_special_tokens=True)\n",
        "   if res=='p':\n",
        "      return 'positive'\n",
        "   return 'negative'\n",
        "\n",
        "\n"
      ]
    },
    {
      "cell_type": "code",
      "execution_count": 5,
      "metadata": {},
      "outputs": [
        {
          "name": "stdout",
          "output_type": "stream",
          "text": [
            "For the sentence: 'This movie is awesome', the result is: positive\n"
          ]
        }
      ],
      "source": [
        "sentence =\"This movie is awesome\"\n",
        "res = get_sentiment(sentence)\n",
        "print(f\"For the sentence: '{sentence}', the result is: {res}\")"
      ]
    },
    {
      "cell_type": "code",
      "execution_count": 6,
      "metadata": {
        "colab": {
          "base_uri": "https://localhost:8080/"
        },
        "id": "zZJkcDDycTZ7",
        "outputId": "8dd3c860-21e2-435e-cbf1-4d00b30131ae"
      },
      "outputs": [
        {
          "name": "stdout",
          "output_type": "stream",
          "text": [
            "For the sentence: 'I didn’t like the movie so much', the reuslt is: negative\n"
          ]
        }
      ],
      "source": [
        "sentence =\"I didn’t like the movie so much\"\n",
        "res = get_sentiment(sentence)\n",
        "print(f\"For the sentence: '{sentence}', the reuslt is: {res}\")"
      ]
    },
    {
      "cell_type": "code",
      "execution_count": 7,
      "metadata": {
        "colab": {
          "base_uri": "https://localhost:8080/"
        },
        "id": "JU7TaDmccTFy",
        "outputId": "e746af88-0c30-403e-a68a-f0f24128cc3c"
      },
      "outputs": [
        {
          "name": "stdout",
          "output_type": "stream",
          "text": [
            "For the sentence: 'I’m not sure what I think about this movie.', the result is: negative\n"
          ]
        }
      ],
      "source": [
        "sentence =\"I’m not sure what I think about this movie.\"\n",
        "res = get_sentiment(sentence)\n",
        "print(f\"For the sentence: '{sentence}', the result is: {res}\")"
      ]
    },
    {
      "cell_type": "code",
      "execution_count": 8,
      "metadata": {
        "colab": {
          "base_uri": "https://localhost:8080/"
        },
        "id": "dvcvfhLycS5_",
        "outputId": "a41ea6e8-be8c-4d4f-b95c-fbb63d57e005"
      },
      "outputs": [
        {
          "name": "stdout",
          "output_type": "stream",
          "text": [
            "For the sentence: 'Did you like the movie?', the sentiment is: positive\n"
          ]
        }
      ],
      "source": [
        "sentence =\"Did you like the movie?\"\n",
        "res = get_sentiment(sentence)\n",
        "print(f\"For the sentence: '{sentence}', the sentiment is: {res}\")"
      ]
    },
    {
      "cell_type": "markdown",
      "metadata": {},
      "source": [
        "Q5.3"
      ]
    },
    {
      "cell_type": "code",
      "execution_count": 9,
      "metadata": {
        "colab": {
          "base_uri": "https://localhost:8080/"
        },
        "id": "DsSkDELjpiGL",
        "outputId": "a067cd17-9c12-4db5-f27f-01229205c927"
      },
      "outputs": [
        {
          "name": "stdout",
          "output_type": "stream",
          "text": [
            "Accuracy: 94.95%\n"
          ]
        }
      ],
      "source": [
        "from datasets import load_dataset\n",
        "from transformers import T5ForConditionalGeneration, T5Tokenizer\n",
        "\n",
        "data = load_dataset(\"stanfordnlp/sst2\")\n",
        "\n",
        "correct = 0\n",
        "total = 0\n",
        "\n",
        "for x in data['validation']:\n",
        "    y_pred = get_sentiment(x['sentence'])\n",
        "    y=x['label']\n",
        "    if (y_pred == 'positive' and y == 1) or (y_pred == 'negative' and y == 0):\n",
        "        correct += 1\n",
        "    total += 1\n",
        "\n",
        "accuracy = correct / total\n",
        "print(f\"Accuracy: {accuracy*100:.2f}%\")\n",
        "\n"
      ]
    },
    {
      "cell_type": "markdown",
      "metadata": {},
      "source": [
        "Q5.4"
      ]
    },
    {
      "cell_type": "code",
      "execution_count": 10,
      "metadata": {
        "colab": {
          "base_uri": "https://localhost:8080/"
        },
        "id": "T4h8OmVyeZDO",
        "outputId": "b2cb39ab-aaaf-47ac-9129-302df23ff917"
      },
      "outputs": [
        {
          "name": "stdout",
          "output_type": "stream",
          "text": [
            "The label distribution in the SST2 dataset:\n",
            "negative: 49.08%\n",
            "positive: 50.92%\n",
            "The dataset is balanced.\n"
          ]
        }
      ],
      "source": [
        "\n",
        "label_counts = data['validation'].features['label'].names\n",
        "train_labels = data['validation']['label']\n",
        "label_distribution = {label: train_labels.count(i) for i, label in enumerate(label_counts)}\n",
        "\n",
        "total_samples = sum(label_distribution.values())\n",
        "print(\"The label distribution in the SST2 dataset:\")\n",
        "for label, count in label_distribution.items():\n",
        "    print(f\"{label}: {((count/total_samples)*100):.2f}%\")\n",
        "\n",
        "\n",
        "is_balanced = all(abs((count / total_samples) - (1 / 2)) < 0.05 for count in label_distribution.values())\n",
        "\n",
        "if is_balanced:\n",
        "    print(\"The dataset is balanced.\")\n",
        "else:\n",
        "    print(\"The dataset is not balanced.\")\n"
      ]
    }
  ],
  "metadata": {
    "colab": {
      "provenance": [],
      "toc_visible": true
    },
    "kernelspec": {
      "display_name": "Python 3",
      "name": "python3"
    },
    "language_info": {
      "codemirror_mode": {
        "name": "ipython",
        "version": 3
      },
      "file_extension": ".py",
      "mimetype": "text/x-python",
      "name": "python",
      "nbconvert_exporter": "python",
      "pygments_lexer": "ipython3",
      "version": "3.11.2"
    }
  },
  "nbformat": 4,
  "nbformat_minor": 0
}
