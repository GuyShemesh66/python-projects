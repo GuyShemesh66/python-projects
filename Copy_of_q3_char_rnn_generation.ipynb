{
  "cells": [
    {
      "cell_type": "markdown",
      "metadata": {
        "id": "XPKTqQ3W8qLt"
      },
      "source": [
        "To begin copy this notebook to your own drive:\n",
        "\n",
        "![image.png](data:image/png;base64,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)\n",
        "\n",
        "\n",
        "### Submission Instructions:\n",
        "1. **Restart the kernel** (in the menubar, select Runtime$\\rightarrow$Restart runtime)\n",
        "2. **Run all cells** (in the menubar, select Runtime$\\rightarrow$Run All).\n",
        "3. **Download the notebook** (in the menubar, select File$\\rightarrow$Download .ipynb)\n",
        "4. **Upload the downloaded notebook (.ipynb file) to your repository**.\n",
        "\n",
        "Note: To use a GPU, do the following: Runtime$\\rightarrow$Change runtime type$\\rightarrow$ GPU\n",
        "\n",
        "Make sure you fill in any place that says `YOUR CODE HERE`, and that no tests fail.  "
      ]
    },
    {
      "cell_type": "markdown",
      "metadata": {
        "id": "W2sQB5MRpwqI"
      },
      "source": []
    },
    {
      "cell_type": "markdown",
      "metadata": {
        "id": "XvPkt7Zm8qLt"
      },
      "source": [
        "![shakespeare](https://i.imgur.com/81YZuel.jpg)\n",
        "\n",
        "# Generating Shakespeare Using a Character-level Language Model\n",
        "\n",
        "### From Words to Characters\n",
        "In the previous two sections we dealt with word-level language models. But looking again at section 2, there is nothing that constraints us to using _words_ as the basic elemnents in our model. The model we analyzed in section 2 could just as well be character-based - just replace \"word\" with \"character\", and you are good to go. In this notebook we will train a small character-based language model that will help us generate Shakespearean-like (emphasis on the _like_...) texts."
      ]
    },
    {
      "cell_type": "markdown",
      "metadata": {
        "id": "EvGyr_ux8qLt"
      },
      "source": [
        "### Question 3.a\n",
        "Can you think of an advantage a character-based language model could have over a word-based language model? And what about the other way around: can you think of an advantage a word-based language model could have over a character-based language model? (Add your answer to the final submission pdf)."
      ]
    },
    {
      "cell_type": "markdown",
      "metadata": {
        "id": "ghCevRFf8qLt"
      },
      "source": [
        "### Using PyTorch\n",
        "\n",
        "We'll build our language model using PyTorch. PyTorch is a [very popular](https://thegradient.pub/state-of-ml-frameworks-2019-pytorch-dominates-research-tensorflow-dominates-industry/) open-source machine learning (and deep learning) framework developed by Facebook. In short:\n",
        "\n",
        "> Pytorch is a Python-based scientific computing package targeted at two sets of audiences:\n",
        "* A replacement for NumPy to use the power of GPUs\n",
        "* A deep learning research platform that provides maximum flexibility and speed\n",
        "\n",
        "To get familiar with PyTorch, check out this [quick tutorial](https://pytorch.org/tutorials/beginner/blitz/tensor_tutorial.html). In addition, another imporant difference from numpy is that PyTorch can automatically calculate the gradients needed for backpropagation, as explained [here](https://pytorch.org/tutorials/beginner/blitz/autograd_tutorial.html)."
      ]
    },
    {
      "cell_type": "markdown",
      "metadata": {
        "id": "MYd79g6k8qLt"
      },
      "source": [
        "### Preparing the Data\n",
        "\n",
        "Our dataset is a plain text file. For simplicity, we turn any potential unicode characters into plain ASCII by using the `unidecode` package."
      ]
    },
    {
      "cell_type": "code",
      "execution_count": 16,
      "metadata": {
        "colab": {
          "base_uri": "https://localhost:8080/"
        },
        "id": "OT5WdSbsFT1K",
        "outputId": "daa3f9f7-a5c5-4b5d-a29d-c9a5668cf54f"
      },
      "outputs": [
        {
          "output_type": "stream",
          "name": "stdout",
          "text": [
            "Requirement already satisfied: unidecode in /usr/local/lib/python3.10/dist-packages (1.3.8)\n"
          ]
        }
      ],
      "source": [
        "!pip install unidecode"
      ]
    },
    {
      "cell_type": "code",
      "execution_count": 17,
      "metadata": {
        "colab": {
          "base_uri": "https://localhost:8080/"
        },
        "id": "RYqFoQgV8qLt",
        "outputId": "9fa9756f-a099-44be-ba38-6306ed0e979f"
      },
      "outputs": [
        {
          "output_type": "stream",
          "name": "stdout",
          "text": [
            "Total number of characters in our dataset: 1115394\n"
          ]
        }
      ],
      "source": [
        "import string\n",
        "import random\n",
        "import re\n",
        "import requests\n",
        "import unidecode\n",
        "url = \"https://github.com/tau-nlp-course/NLP_HW2/raw/main/data/shakespeare.txt\"\n",
        "\n",
        "\n",
        "all_characters = string.printable\n",
        "n_characters = len(all_characters)  # our vocabulary size (|V| from the handout)\n",
        "\n",
        "dataset_as_string = unidecode.unidecode(requests.get(url).content.decode())\n",
        "n_chars_in_dataset = len(dataset_as_string)\n",
        "print(f'Total number of characters in our dataset: {n_chars_in_dataset}')"
      ]
    },
    {
      "cell_type": "markdown",
      "metadata": {
        "id": "mIctyT3J8qLu"
      },
      "source": [
        "To make inputs out of this big string of text, we will split it into chunks."
      ]
    },
    {
      "cell_type": "code",
      "execution_count": 18,
      "metadata": {
        "colab": {
          "base_uri": "https://localhost:8080/"
        },
        "id": "eoLs0ivz8qLu",
        "outputId": "9fda4c57-17fc-4b08-dd3c-9b1a6dbca79c"
      },
      "outputs": [
        {
          "output_type": "stream",
          "name": "stdout",
          "text": [
            " songs of death?\n",
            "Take that, until thou bring me better news.\n",
            "\n",
            "Third Messenger:\n",
            "The news I have to tell your majesty\n",
            "Is, that by sudden floods and fall of waters,\n",
            "Buckingham's army is dispersed and scatter'd;\n",
            "And he himself wander'd away alone,\n",
            "No man knows whither.\n",
            "\n",
            "KING RICHARD III:\n",
            "I cry thee mercy:\n",
            "There is my purse to cure that blow of thine.\n",
            "Hath any well-advised friend proclaim'd\n",
            "Reward to hi\n"
          ]
        }
      ],
      "source": [
        "chunk_len = 400\n",
        "\n",
        "def random_chunk():\n",
        "    start_index = random.randint(0, n_chars_in_dataset - chunk_len)\n",
        "    end_index = start_index + chunk_len + 1\n",
        "    return dataset_as_string[start_index:end_index]\n",
        "\n",
        "print(random_chunk())"
      ]
    },
    {
      "cell_type": "markdown",
      "metadata": {
        "id": "ho8WlUcV8qLv"
      },
      "source": [
        "### Building Our Model\n",
        "\n",
        "Our model consists of three main components:\n",
        "\n",
        "1. [**Embedding**](https://pytorch.org/docs/stable/nn.html#embedding). A mapping between characters and their learned representations (\"word vectors\") \\[correspoding to ${\\boldsymbol L}$ in terms of the handout\\]\n",
        "2. [**GRU**](https://pytorch.org/docs/stable/nn.html#gru). \\[correspoding to the computation of ${\\boldsymbol h}^{(t)}$ in terms of the handout\\]\n",
        "3. **Output Layer**. A feed-forward neural network that transforms a hidden state at a timestep into a probability distribution of the next character. \\[correspoding to the computation of $\\hat{\\boldsymbol y}^{(t)}$ in terms of the handout\\]"
      ]
    },
    {
      "cell_type": "markdown",
      "metadata": {
        "id": "KFm8g2pd8qLv"
      },
      "source": [
        "### Question 3.b\n",
        "Complete the implementation of the `forward` method of our model."
      ]
    },
    {
      "cell_type": "code",
      "execution_count": 19,
      "metadata": {
        "id": "2SoCQ_ZM8qLv"
      },
      "outputs": [],
      "source": [
        "import torch\n",
        "import torch.nn as nn\n",
        "from torch.autograd import Variable\n",
        "\n",
        "class OurModel(nn.Module):\n",
        "    def __init__(self, input_size, hidden_size, output_size, num_layers=1):\n",
        "        super(OurModel, self).__init__()\n",
        "        self.input_size = input_size\n",
        "        self.hidden_size = hidden_size\n",
        "        self.output_size = output_size\n",
        "        self.num_layers = num_layers\n",
        "\n",
        "        self.embedding = nn.Embedding(input_size, hidden_size)  # In the terms of the handout, here d = D_h\n",
        "        self.gru = nn.GRU(hidden_size, hidden_size, num_layers)\n",
        "        self.output_layer = nn.Linear(hidden_size, output_size)\n",
        "\n",
        "    def forward(self, input_, hidden):\n",
        "        # General instructions:\n",
        "        # Pass the embedded input through the GRU and use the output layer to get the next character distribution.\n",
        "        # return that distribution and the next hidden state.\n",
        "        # You may need to play around with the dimensions a bit until you get it right. Dimension-induced frustration is good for you!\n",
        "        # -------------------------\n",
        "        # YOUR CODE HERE\n",
        "        out, hidden = self.gru( self.embedding(input_).view(1, 1, -1), hidden)\n",
        "        output = self.output_layer(out.view(1, -1))\n",
        "        # -------------------------\n",
        "        return output, hidden\n",
        "\n",
        "    def init_hidden(self):\n",
        "        return Variable(torch.zeros(self.num_layers, 1, self.hidden_size))"
      ]
    },
    {
      "cell_type": "markdown",
      "metadata": {
        "id": "aZWMbY1o8qLv"
      },
      "source": [
        "### Creating the Training Examples"
      ]
    },
    {
      "cell_type": "markdown",
      "metadata": {
        "id": "B-ngTV6Q8qLv"
      },
      "source": [
        "Each chunk will be turned into a tensor by looping through the characters of the string and looking up the index of each character in `all_characters`."
      ]
    },
    {
      "cell_type": "code",
      "execution_count": 20,
      "metadata": {
        "colab": {
          "base_uri": "https://localhost:8080/"
        },
        "id": "98wyNtkw8qLv",
        "outputId": "f49ec9f0-002f-4872-b773-4a6b4eda0fa4"
      },
      "outputs": [
        {
          "output_type": "stream",
          "name": "stdout",
          "text": [
            "tensor([10, 11, 12, 39, 40, 41])\n"
          ]
        }
      ],
      "source": [
        "# Turn a string into list of longs\n",
        "def chars_to_tensor(string):\n",
        "    tensor = torch.zeros(len(string)).long()\n",
        "    for c in range(len(string)):\n",
        "        tensor[c] = all_characters.index(string[c])\n",
        "    return Variable(tensor)\n",
        "\n",
        "print(chars_to_tensor('abcDEF'))"
      ]
    },
    {
      "cell_type": "markdown",
      "metadata": {
        "id": "cYh_R1K88qLv"
      },
      "source": [
        "Now we can assemble a pair of input and target tensors (i.e. a single training example) for training, from a random chunk. The input will be all characters *except the last*, and the target will be all characters *except the first*. So if our chunk is \"abc\" the input will correspond to \"ab\" while the target is \"bc\"."
      ]
    },
    {
      "cell_type": "code",
      "execution_count": 21,
      "metadata": {
        "id": "QFDYhW3a8qLv"
      },
      "outputs": [],
      "source": [
        "def random_training_set():\n",
        "    chunk = random_chunk()\n",
        "    inp = chars_to_tensor(chunk[:-1])\n",
        "    target = chars_to_tensor(chunk[1:])\n",
        "    return inp, target"
      ]
    },
    {
      "cell_type": "markdown",
      "metadata": {
        "id": "eU6VTX8F8qLv"
      },
      "source": [
        "### Evaluating\n",
        "\n",
        "To evaluate the network we will feed one character at a time, use the outputs of the network as a probability distribution for the next character, and repeat. To start generation we pass a priming string to start building up the hidden state, from which we then generate one character at a time."
      ]
    },
    {
      "cell_type": "code",
      "execution_count": 22,
      "metadata": {
        "id": "xeoACNc78qLv"
      },
      "outputs": [],
      "source": [
        "import torch.nn.functional as F\n",
        "\n",
        "def evaluate(prime_str='A', predict_len=100, temperature=0.8):\n",
        "    hidden = model.init_hidden()\n",
        "    prime_input = chars_to_tensor(prime_str)\n",
        "    predicted = prime_str\n",
        "\n",
        "    # Use priming string to \"build up\" hidden state\n",
        "    for p in range(len(prime_str) - 1):\n",
        "        _, hidden = model(prime_input[p], hidden)\n",
        "    inp = prime_input[-1]\n",
        "\n",
        "    for p in range(predict_len):\n",
        "        output, hidden = model(inp, hidden)\n",
        "\n",
        "        # Sample from the network as a multinomial distribution\n",
        "        output_dist =  F.softmax(output / temperature, dim=-1)\n",
        "        top_i = torch.multinomial(output_dist, 1)[0]\n",
        "\n",
        "        # Add predicted character to string and use as next input\n",
        "        predicted_char = all_characters[top_i]\n",
        "        predicted += predicted_char\n",
        "        inp = chars_to_tensor(predicted_char)\n",
        "\n",
        "    return predicted"
      ]
    },
    {
      "cell_type": "markdown",
      "metadata": {
        "id": "iNmsUvyM8qLv"
      },
      "source": [
        "### Training"
      ]
    },
    {
      "cell_type": "markdown",
      "metadata": {
        "id": "AiCVg5Ec8qLv"
      },
      "source": [
        "The main training function"
      ]
    },
    {
      "cell_type": "code",
      "execution_count": 23,
      "metadata": {
        "id": "Wug0q2Me8qLv"
      },
      "outputs": [],
      "source": [
        "def train(inp, target):\n",
        "    hidden = model.init_hidden()\n",
        "    model.zero_grad()\n",
        "    loss = 0\n",
        "\n",
        "    for c in range(chunk_len):\n",
        "        output, hidden = model(inp[c], hidden)\n",
        "        loss += criterion(output, target[c].view(-1))\n",
        "\n",
        "    loss.backward()\n",
        "    optimizer.step()\n",
        "\n",
        "    return loss.item() / chunk_len"
      ]
    },
    {
      "cell_type": "markdown",
      "metadata": {
        "id": "hFBSiQqS8qLv"
      },
      "source": [
        "A helper to print the amount of time passed:"
      ]
    },
    {
      "cell_type": "code",
      "execution_count": 24,
      "metadata": {
        "id": "vIzUAL-a8qLv"
      },
      "outputs": [],
      "source": [
        "import time, math\n",
        "\n",
        "def time_since(since):\n",
        "    s = time.time() - since\n",
        "    m = math.floor(s / 60)\n",
        "    s -= m * 60\n",
        "    return f'{m}m {math.floor(s)}s'"
      ]
    },
    {
      "cell_type": "code",
      "execution_count": 25,
      "metadata": {
        "id": "pAlXhasn8qLv"
      },
      "outputs": [],
      "source": [
        "# DO NOT DELETE THIS CELL\n"
      ]
    },
    {
      "cell_type": "markdown",
      "metadata": {
        "id": "0Xva5o5I8qLv"
      },
      "source": [
        "Define the training parameters, instantiate the model, and start training:"
      ]
    },
    {
      "cell_type": "code",
      "execution_count": 26,
      "metadata": {
        "colab": {
          "base_uri": "https://localhost:8080/"
        },
        "id": "pRLHP-UQ8qLw",
        "outputId": "e8cc822f-3ac7-4db2-80f8-06fafc30815e"
      },
      "outputs": [
        {
          "output_type": "stream",
          "name": "stdout",
          "text": [
            "[time elapsed: 0m 43s  ;  epochs: 100 (5.0%)  ;  loss: 2.283]\n",
            "Whot his thet?\n",
            "\n",
            "DINCINKELO:\n",
            "The hat on, path ith mean Chaeion you hat frades burtell and nor the the to gater my withestine me the itall khat hir heare eapk\n",
            "Qint the sow iter,\n",
            "\n",
            "Andon, wat of an thave an \n",
            "\n",
            "[time elapsed: 1m 26s  ;  epochs: 200 (10.0%)  ;  loss: 2.08]\n",
            "Whe mind:\n",
            "Bode pamien that that the the hens it in Non fercest's pre a the sis for dow nendell old deltey, are thou Jened parised.\n",
            "\n",
            "ANGLERLELO:\n",
            "But it as stare:\n",
            "Fasted,\n",
            "Twot fardon:\n",
            "Fopave to the is ood \n",
            "\n",
            "[time elapsed: 2m 3s  ;  epochs: 300 (15.0%)  ;  loss: 1.998]\n",
            "Whenchts?\n",
            "\n",
            "TERGRY:\n",
            "I cunsir thouseford's we this, no shall bits brits hears,\n",
            "Siss, the? 'donged I cand brough fall nore to done.\n",
            "Eo hous bost deald boun?\n",
            "\n",
            "GRUTIO:\n",
            "What shers bees he of lind have begave  \n",
            "\n",
            "[time elapsed: 2m 38s  ;  epochs: 400 (20.0%)  ;  loss: 1.748]\n",
            "Whed for ungerebouck,\n",
            "That breent than thou and now off mure ring the precoe\n",
            "wable, of the to will his priders boake to the coffer\n",
            "For we onate to un but upping mity he ing upod shouldbering\n",
            "Rome of the \n",
            "\n",
            "[time elapsed: 3m 12s  ;  epochs: 500 (25.0%)  ;  loss: 1.987]\n",
            "Wherly gedst is shaint ith whoth;\n",
            "Ands ay a bun I bus the the pnead thee a way our now,\n",
            "And have old king not depare the for le cobering deecould ave spelfuced salt lied,\n",
            "But is and is of cop her.\n",
            "\n",
            "PETR \n",
            "\n",
            "[time elapsed: 3m 49s  ;  epochs: 600 (30.0%)  ;  loss: 1.822]\n",
            "Wheard night,\n",
            "Welatressort the canion tomorthy to kne.\n",
            "\n",
            "BRUS:\n",
            "Mare to delven, be to be bame\n",
            "some a so keand and mard: have to and to with hear,\n",
            "And thou there to there him the with to?\n",
            "\n",
            "NONTIS:\n",
            "Heronce  \n",
            "\n",
            "[time elapsed: 4m 23s  ;  epochs: 700 (35.0%)  ;  loss: 1.677]\n",
            "What the preving\n",
            "sil!\n",
            "\n",
            "HENRIOLE:\n",
            "Which a paitor;\n",
            "Firdness as be gone and you dard fits the harnes a man-suchard's not fealsse mo train.\n",
            "\n",
            "NOLALUS:\n",
            "Lote I fair deit's be of the agains.\n",
            "\n",
            "AUTIO:\n",
            "Dut then I  \n",
            "\n",
            "[time elapsed: 4m 58s  ;  epochs: 800 (40.0%)  ;  loss: 1.912]\n",
            "Whis rody;\n",
            "Borth ont litlece or seit; Mard! \n",
            "Ducty theideding from panetale deak leat\n",
            "As these said this stat offily sole, bears of an dephan me gown is have.\n",
            "\n",
            "WARTINIUS:\n",
            "Till have grother did so, nich' \n",
            "\n",
            "[time elapsed: 5m 32s  ;  epochs: 900 (45.0%)  ;  loss: 1.637]\n",
            "What apparck it all of the consay.\n",
            "\n",
            "PETRUCHIO:\n",
            "I'll and that from your her\n",
            "patter the wist, and brike no bite.\n",
            "\n",
            "BUKE VINCINIUS:\n",
            "I paren now lave the me tences have than I\n",
            "Fist conforn in you will my the \n",
            "\n",
            "[time elapsed: 6m 8s  ;  epochs: 1000 (50.0%)  ;  loss: 1.607]\n",
            "Whe can thenes,\n",
            "He will his did a bana drent in rid arplince whis ince had else: the prais'd;\n",
            "Who greave proming lid urses of I am prights him chilly,\n",
            "A that your ah love it whis mean, I will cand dich' \n",
            "\n",
            "[time elapsed: 6m 44s  ;  epochs: 1100 (55.00000000000001%)  ;  loss: 1.763]\n",
            "Whath their do the will not with the shall nenk?\n",
            "\n",
            "CORIOLANULALUS:\n",
            "Who this rofe of then,\n",
            "And devore fee! he shall be ment fall to then\n",
            "Who man: yourful me the royal unsent-men;\n",
            "What he vaiconoucting lib \n",
            "\n",
            "[time elapsed: 7m 19s  ;  epochs: 1200 (60.0%)  ;  loss: 1.825]\n",
            "Whou, my be you,\n",
            "You, you stray son he by your heiver away,\n",
            "That which have forthy seak breath be the dost seek my thee thy recies ame\n",
            "The my me as the tempeinself, the war who lords shall should beter, \n",
            "\n",
            "[time elapsed: 7m 53s  ;  epochs: 1300 (65.0%)  ;  loss: 1.811]\n",
            "Whe comfortispess we chost of and not\n",
            "Goes take the so take with my lest is guill.\n",
            "\n",
            "CLIXO:\n",
            "A come by a tank;\n",
            "The will be of lead. Where for it but love sity sare the lain the\n",
            "as thee, thy hark and my cl \n",
            "\n",
            "[time elapsed: 8m 30s  ;  epochs: 1400 (70.0%)  ;  loss: 1.67]\n",
            "Whoones and sent.\n",
            "'Hman: now hom she sust his say theing of Art and bruck\n",
            "And speak, I say the to let with'd upon arms;\n",
            "And to so had altels ware your fain of the baseed then see\n",
            "Thus no conse Puther in \n",
            "\n",
            "[time elapsed: 9m 7s  ;  epochs: 1500 (75.0%)  ;  loss: 1.806]\n",
            "What, he hear was mreat you\n",
            "Twour are so so that dore:\n",
            "Ay with my bamsom, and speembere uncle his to the will note as shall wishes\n",
            "we womand me thou the wortay undees;\n",
            "When ewind the boods, mossorishes  \n",
            "\n",
            "[time elapsed: 9m 42s  ;  epochs: 1600 (80.0%)  ;  loss: 1.747]\n",
            "Whermer: the jet unto, the deame were now\n",
            "This is presure us, forture dether\n",
            "And untise. Once, gone, you, I he dead, crown,\n",
            "Filin and so morrest, fortune I shall fire.\n",
            "\n",
            "LUCIO:\n",
            "How shed only sher so for  \n",
            "\n",
            "[time elapsed: 10m 17s  ;  epochs: 1700 (85.0%)  ;  loss: 1.657]\n",
            "Whither?\n",
            "\n",
            "CSTENENE:\n",
            "Come, and so with your see of true,\n",
            "And wish in back your sweet, I sir,--\n",
            "That some of gentle to you to your be royes too you seng then are the Edwirghal\n",
            "corn thou bought? How that t \n",
            "\n",
            "[time elapsed: 10m 53s  ;  epochs: 1800 (90.0%)  ;  loss: 1.587]\n",
            "Whe not the gorition my laves.\n",
            "\n",
            "ETHAMILLANA:\n",
            "And I whood, what the to such hearty.\n",
            "\n",
            "LUCENTIO:\n",
            "A dellons, I heaven shilk!\n",
            "\n",
            "HORTENSIO:\n",
            "Now, I soul here and light agains,\n",
            "Be to the can you stoly by the moo \n",
            "\n",
            "[time elapsed: 11m 30s  ;  epochs: 1900 (95.0%)  ;  loss: 1.775]\n",
            "Which, Ango, and was,\n",
            "I bechold and to with lie all still on\n",
            "The consort this to for his so nor villander,\n",
            "That what that fake my father dain some lifgernes benle's good\n",
            "And execover like of the rids on \n",
            "\n",
            "[time elapsed: 12m 5s  ;  epochs: 2000 (100.0%)  ;  loss: 1.549]\n",
            "Whe, dight my gover: he spires; hod your stut in this, the must me!\n",
            "How known-enush froment heart.\n",
            "\n",
            "DUKE OF YORK:\n",
            "Not fair but nor his doth exevery shalt stall the will not then\n",
            "Hoad her marrest the ste \n",
            "\n"
          ]
        }
      ],
      "source": [
        "n_epochs = 2000\n",
        "print_every = 100\n",
        "plot_every = 10\n",
        "hidden_size = 100  # (D_h from the handout)\n",
        "num_layers = 1\n",
        "lr = 0.005\n",
        "\n",
        "model = OurModel(n_characters, hidden_size, n_characters, num_layers)\n",
        "optimizer = torch.optim.Adam(model.parameters(), lr=lr)\n",
        "criterion = nn.CrossEntropyLoss()\n",
        "\n",
        "start = time.time()\n",
        "all_losses = []\n",
        "loss_avg = 0\n",
        "\n",
        "for epoch in range(1, n_epochs + 1):\n",
        "    loss = train(*random_training_set())\n",
        "    loss_avg += loss\n",
        "\n",
        "    if epoch % print_every == 0:\n",
        "        print(f'[time elapsed: {time_since(start)}  ;  epochs: {epoch} ({epoch / n_epochs * 100}%)  ;  loss: {loss:.4}]')\n",
        "        print(evaluate('Wh', 200), '\\n')  # generate text starting with 'Wh'\n",
        "\n",
        "    if epoch % plot_every == 0:\n",
        "        all_losses.append(loss_avg / plot_every)\n",
        "        loss_avg = 0"
      ]
    },
    {
      "cell_type": "markdown",
      "metadata": {
        "id": "dXeVkk298qLw"
      },
      "source": [
        "### Training Loss\n",
        "\n",
        "Plotting the the losses that were computed during training can provide a further indication that the network was indeed learning (Add your plot to the final submission pdf)."
      ]
    },
    {
      "cell_type": "code",
      "execution_count": 27,
      "metadata": {
        "colab": {
          "base_uri": "https://localhost:8080/",
          "height": 468
        },
        "id": "S2SZanbV8qLw",
        "outputId": "e4ab05cf-a6ed-44a0-b1aa-be062b121a03"
      },
      "outputs": [
        {
          "output_type": "execute_result",
          "data": {
            "text/plain": [
              "[<matplotlib.lines.Line2D at 0x7a405d80ed40>]"
            ]
          },
          "metadata": {},
          "execution_count": 27
        },
        {
          "output_type": "display_data",
          "data": {
            "text/plain": [
              "<Figure size 640x480 with 1 Axes>"
            ],
            "image/png": "[encoded data removed]"
          },
          "metadata": {}
        }
      ],
      "source": [
        "import matplotlib.pyplot as plt\n",
        "%matplotlib inline\n",
        "\n",
        "plt.grid(True)\n",
        "plt.xlabel('# of epochs (divided by plot_every)')\n",
        "plt.ylabel('average loss')\n",
        "plt.plot(all_losses)"
      ]
    },
    {
      "cell_type": "code",
      "execution_count": 28,
      "metadata": {
        "colab": {
          "base_uri": "https://localhost:8080/"
        },
        "id": "hdN9l9rjvnL4",
        "outputId": "2eb1dd3c-a887-4138-bc8d-455af4344fd3"
      },
      "outputs": [
        {
          "output_type": "stream",
          "name": "stdout",
          "text": [
            "Mounted at /content/drive\n",
            "Model 2 Shakespeare text Perplexity: 7.520366818541749\n",
            "Model 2 Wikipedia text Perplexity: 19.731699293188296\n"
          ]
        }
      ],
      "source": [
        "import numpy as np\n",
        "from google.colab import drive\n",
        "drive.mount('/content/drive', force_remount=True)\n",
        "\n",
        "def calculate_data_perplexity(data):\n",
        "    hidden = model.init_hidden()\n",
        "    perplexity = 0\n",
        "    temperature=0.8 #As define in Evaluating section\n",
        "    for i in range(len(data) - 1):\n",
        "            output, hidden = model(chars_to_tensor(data[i]), hidden)\n",
        "            output_distribution =  F.softmax(output/temperature, dim=-1)\n",
        "            index = all_characters.index(data[i + 1])\n",
        "            next_char_distribution = output_distribution[0][index]\n",
        "            distribution = next_char_distribution.item()\n",
        "            perplexity += np.log2(distribution)\n",
        "    perplexity = 2 ** (- perplexity / len(data))\n",
        "    return perplexity\n",
        "\n",
        "with open(\"/content/drive/My Drive/NLP/NLP_ex2/shakespeare_for_perplexity.txt\", \"r\") as file:\n",
        "    data = unidecode.unidecode(file.read())\n",
        "    shakespeare_perplexity =str(calculate_data_perplexity(data))\n",
        "    print(\"Model 2 Shakespeare text Perplexity: \" + shakespeare_perplexity)\n",
        "with open(\"/content/drive/My Drive/NLP/NLP_ex2/wikipedia_for_perplexity.txt\", \"r\") as file:\n",
        "    data = unidecode.unidecode(file.read())\n",
        "    wikipedia_preplexity=str(calculate_data_perplexity(data))\n",
        "    print(\"Model 2 Wikipedia text Perplexity: \" + wikipedia_preplexity)"
      ]
    }
  ],
  "metadata": {
    "accelerator": "GPU",
    "anaconda-cloud": {},
    "colab": {
      "gpuType": "T4",
      "provenance": []
    },
    "kernelspec": {
      "display_name": "Python 3",
      "name": "python3"
    },
    "language_info": {
      "codemirror_mode": {
        "name": "ipython",
        "version": 3
      },
      "file_extension": ".py",
      "mimetype": "text/x-python",
      "name": "python",
      "nbconvert_exporter": "python",
      "pygments_lexer": "ipython3",
      "version": "3.8.0"
    },
    "pycharm": {
      "stem_cell": {
        "cell_type": "raw",
        "metadata": {
          "collapsed": false
        },
        "source": []
      }
    }
  },
  "nbformat": 4,
  "nbformat_minor": 0
}